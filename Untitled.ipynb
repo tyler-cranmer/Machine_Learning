{
 "cells": [
  {
   "cell_type": "code",
   "execution_count": 2,
   "id": "threaded-chrome",
   "metadata": {},
   "outputs": [
    {
     "name": "stdout",
     "output_type": "stream",
     "text": [
      "[[9 8 5 9 1]\n",
      " [2 9 3 4 3]\n",
      " [5 3 2 1 6]]\n",
      "shape of data: (3, 5)\n",
      "shape mean_vector: (5,)\n",
      "[5.33333333 6.66666667 3.33333333 4.66666667 3.33333333]\n",
      "[[ 4.93333333 -0.33333333  1.53333333  3.86666667 -1.66666667]\n",
      " [-0.33333333  4.13333333  1.26666667  3.53333333 -2.73333333]\n",
      " [ 1.53333333  1.26666667  0.93333333  2.46666667 -1.46666667]\n",
      " [ 3.86666667  3.53333333  2.46666667  6.53333333 -3.93333333]\n",
      " [-1.66666667 -2.73333333 -1.46666667 -3.93333333  2.53333333]]\n"
     ]
    }
   ],
   "source": [
    "import math\n",
    "import pickle\n",
    "import gzip\n",
    "import numpy as np\n",
    "import pandas\n",
    "import matplotlib.pylab as plt\n",
    "%matplotlib inline\n",
    "n = 5\n",
    "x = np.random.randint(low=0, high=10, size = n)\n",
    "y = np.random.randint(low=0, high=10, size = n)\n",
    "z = np.random.randint(low=0, high=10, size = n)\n",
    "\n",
    "xm = np.stack([x,y,z])\n",
    "print(xm)\n",
    "print(\"shape of data:\", xm.shape)\n",
    "mv = np.mean(xm,axis=0)\n",
    "print(\"shape mean_vector:\", mv.shape)\n",
    "print(mv)\n",
    "cov = np.zeros((xm.shape[1],xm.shape[1]))\n",
    "xm = np.transpose(xm)\n",
    "for i in range(xm.shape[0]):\n",
    "    for j in range(xm.shape[0]):\n",
    "        x1 = xm[i,:]\n",
    "        x2 = xm[j,:]\n",
    "        for k in range(xm.shape[1]):\n",
    "            cov[i,j] += (x1[k]- mv[i]) * (x2[k]-mv[j])\n",
    "        cov[i,j]/= xm.shape[0]\n",
    "print(cov)"
   ]
  },
  {
   "cell_type": "code",
   "execution_count": 5,
   "id": "adjustable-flush",
   "metadata": {},
   "outputs": [
    {
     "data": {
      "text/plain": [
       "array([[  8.33333333,  -8.33333333,   0.83333333,  -3.33333333,\n",
       "         10.        ],\n",
       "       [ -8.33333333,   8.33333333,  -0.83333333,   3.33333333,\n",
       "        -10.        ],\n",
       "       [  0.83333333,  -0.83333333,   6.33333333,  -0.33333333,\n",
       "          1.        ],\n",
       "       [ -3.33333333,   3.33333333,  -0.33333333,   1.33333333,\n",
       "         -4.        ],\n",
       "       [ 10.        , -10.        ,   1.        ,  -4.        ,\n",
       "         12.        ]])"
      ]
     },
     "execution_count": 5,
     "metadata": {},
     "output_type": "execute_result"
    }
   ],
   "source": [
    "np.cov(xm)"
   ]
  },
  {
   "cell_type": "code",
   "execution_count": 15,
   "id": "appropriate-migration",
   "metadata": {},
   "outputs": [],
   "source": [
    "def nonConstructibleChange(coins):\n",
    "    # Write your code here.\n",
    "\n",
    "    change = 0\n",
    "    for coin in coins:\n",
    "        if(coin <= change):\n",
    "            change += coin\n",
    "        else:\n",
    "            return change + 1\n",
    "            \n",
    "            "
   ]
  },
  {
   "cell_type": "code",
   "execution_count": 16,
   "id": "fluid-gravity",
   "metadata": {},
   "outputs": [
    {
     "name": "stdout",
     "output_type": "stream",
     "text": [
      "1\n"
     ]
    }
   ],
   "source": [
    "l = [1,1,1,1]\n",
    "print(nonConstructibleChange(l))"
   ]
  },
  {
   "cell_type": "code",
   "execution_count": 65,
   "id": "little-bolivia",
   "metadata": {},
   "outputs": [
    {
     "name": "stdout",
     "output_type": "stream",
     "text": [
      "[1, 1, 1, 1]\n"
     ]
    }
   ],
   "source": [
    "for i in range()"
   ]
  },
  {
   "cell_type": "code",
   "execution_count": 18,
   "id": "incoming-straight",
   "metadata": {},
   "outputs": [
    {
     "name": "stdout",
     "output_type": "stream",
     "text": [
      "hi\n"
     ]
    }
   ],
   "source": [
    "a = 3\n",
    "b = 1\n",
    "\n",
    "if (a < 5 and b != None):\n",
    "    print(\"hi\")"
   ]
  },
  {
   "cell_type": "code",
   "execution_count": 18,
   "id": "noticed-study",
   "metadata": {},
   "outputs": [
    {
     "name": "stdout",
     "output_type": "stream",
     "text": [
      "Root Node is:\n",
      "2\n"
     ]
    }
   ],
   "source": [
    "class BinaryTreeNode:\n",
    "    def __init__(self, data):\n",
    "        self.data = data\n",
    "        self.leftChild = None\n",
    "        self.rightChild = None\n",
    "\n",
    "\n",
    "def insert(root, newValue):\n",
    "    # if binary search tree is empty, create a new node and declare it as root\n",
    "    if root is None:\n",
    "        root = BinaryTreeNode(newValue)\n",
    "        return root\n",
    "    # if newValue is less than value of data in root, add it to left subtree and proceed recursively\n",
    "    if newValue < root.data:\n",
    "        root.leftChild = insert(root.leftChild, newValue)\n",
    "    else:\n",
    "        # if newValue is greater than value of data in root, add it to right subtree and proceed recursively\n",
    "        root.rightChild = insert(root.rightChild, newValue)\n",
    "    return root\n",
    "\n",
    "\n",
    "root = insert(None, 1)\n",
    "insert(root, 15)\n",
    "insert(root, 5)\n",
    "insert(root, 2)\n",
    "insert(root, 5)\n",
    "insert(root, 13)\n",
    "insert(root, 22)\n",
    "insert(root, 14)\n",
    "node1 = root\n",
    "node2 = node1.leftChild\n",
    "node3 = node1.rightChild\n",
    "node4 = node2.leftChild\n",
    "node5 = node2.rightChild\n",
    "node6 = node3.leftChild\n",
    "node7 = node3.rightChild\n",
    "print(\"Root Node is:\")\n",
    "print(node2.leftChild.data)"
   ]
  },
  {
   "cell_type": "code",
   "execution_count": 16,
   "id": "sublime-vintage",
   "metadata": {},
   "outputs": [],
   "source": [
    "def branchSums(root):\n",
    "    total = 0\n",
    "    total += root.data\n",
    "    print(root.data)\n",
    "    if root.leftChild != None:\n",
    "        print(root.data)\n",
    "        return branchSums(root.leftChild)\n",
    "    elif root.rightChild != None:\n",
    "        print(root.data)\n",
    "        return branchSums(root.rightChild)\n",
    "    else:\n",
    "        print(total)\n",
    "        return root.data"
   ]
  },
  {
   "cell_type": "code",
   "execution_count": 17,
   "id": "extreme-screw",
   "metadata": {},
   "outputs": [
    {
     "name": "stdout",
     "output_type": "stream",
     "text": [
      "10\n",
      "10\n",
      "5\n",
      "5\n",
      "2\n",
      "2\n"
     ]
    },
    {
     "data": {
      "text/plain": [
       "2"
      ]
     },
     "execution_count": 17,
     "metadata": {},
     "output_type": "execute_result"
    }
   ],
   "source": [
    "branchSums(root)"
   ]
  },
  {
   "cell_type": "code",
   "execution_count": 5,
   "id": "alpine-exchange",
   "metadata": {},
   "outputs": [
    {
     "name": "stdout",
     "output_type": "stream",
     "text": [
      "13\n"
     ]
    }
   ],
   "source": [
    "print(findClosestValueInBst(root,12))"
   ]
  },
  {
   "cell_type": "code",
   "execution_count": 10,
   "id": "underlying-encounter",
   "metadata": {},
   "outputs": [
    {
     "name": "stdout",
     "output_type": "stream",
     "text": [
      "[[1 2 3]\n",
      " [4 5 6]\n",
      " [7 8 9]]\n",
      "[[1 4 7]\n",
      " [2 5 8]\n",
      " [3 6 9]]\n",
      "[[1.]\n",
      " [1.]\n",
      " [1.]]\n",
      "[[1.]\n",
      " [1.]\n",
      " [1.]\n",
      " [1.]\n",
      " [4.]\n",
      " [7.]]\n"
     ]
    }
   ],
   "source": [
    "l = np.array([[1,2,3],[4,5,6],[7,8,9]])\n",
    "print(l)\n",
    "l2 = l.T\n",
    "print(l2)\n",
    "l3 = np.reshape(l2[0], (l2.shape[0],1))\n",
    "l4 = np.ones((3,1))\n",
    "print(l4)\n",
    "l4 = np.concatenate((l4,l3), axis=0)\n",
    "print(l4)"
   ]
  },
  {
   "cell_type": "code",
   "execution_count": null,
   "id": "comic-possible",
   "metadata": {},
   "outputs": [],
   "source": [
    "eigen vectors = \\begin{bmatrix}\n",
    "1 & 2 &3 \\\\ \n",
    " 4&  5& 6\\\\ \n",
    " 7&  8& \n",
    "9\\end{bmatrix}\n",
    "\n",
    "matrix_w = \\begin{bmatrix}\n",
    "1\\\\\n",
    "1\\\\ 1\n",
    "\\end{bmatrix}"
   ]
  }
 ],
 "metadata": {
  "kernelspec": {
   "display_name": "Python 3",
   "language": "python",
   "name": "python3"
  },
  "language_info": {
   "codemirror_mode": {
    "name": "ipython",
    "version": 3
   },
   "file_extension": ".py",
   "mimetype": "text/x-python",
   "name": "python",
   "nbconvert_exporter": "python",
   "pygments_lexer": "ipython3",
   "version": "3.9.12"
  }
 },
 "nbformat": 4,
 "nbformat_minor": 5
}
