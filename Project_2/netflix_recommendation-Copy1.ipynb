{
 "cells": [
  {
   "cell_type": "markdown",
   "id": "casual-burst",
   "metadata": {},
   "source": [
    "<img src=\"./pictures/Netflix.png\" style=\"height: 100%; width:100%\"/>\n"
   ]
  },
  {
   "cell_type": "markdown",
   "id": "distinct-andrew",
   "metadata": {},
   "source": [
    "Netflix is one of the most popular media and video streaming platforms. They have over 8000 movies or tv shows available on their platform, as of mid-2021, they have over 200M Subscribers globally. This tabular dataset consists of listings of all the movies and tv shows available on Netflix, along with details such as - cast, directors, ratings, release year, duration, etc.\n",
    " \n",
    "This goal of this project is to create a movie / tv-show recommendation system. When given a movie title, will generate the top 5 movie or shows to watch. The purpose of this project was to build my skills with recommendation systems and using NLP models."
   ]
  },
  {
   "cell_type": "markdown",
   "id": "lonely-shirt",
   "metadata": {},
   "source": [
    "#### Data\n",
    "\n",
    "https://www.kaggle.com/datasets/shivamb/netflix-shows\n",
    "\n",
    "NetFlix Data Co"
   ]
  },
  {
   "cell_type": "code",
   "execution_count": 1,
   "id": "bigger-portal",
   "metadata": {},
   "outputs": [],
   "source": [
    "import numpy as np\n",
    "import pandas as pd\n",
    "import seaborn as sns\n",
    "import matplotlib.pyplot as plt\n",
    "import missingno as msno\n",
    "import re\n",
    "import time\n",
    "from sklearn.feature_extraction.text import TfidfVectorizer\n",
    "from sklearn.metrics.pairwise import linear_kernel\n",
    "\n",
    "#EDA and preprocessing\n",
    "import nltk\n",
    "from nltk.corpus import stopwords\n",
    "from nltk.tokenize import word_tokenize\n",
    "from nltk.stem import WordNetLemmatizer"
   ]
  },
  {
   "cell_type": "code",
   "execution_count": 2,
   "id": "imperial-medication",
   "metadata": {},
   "outputs": [
    {
     "name": "stdout",
     "output_type": "stream",
     "text": [
      "Netflix movie data frame shape: (8807, 12) \n",
      "\n"
     ]
    },
    {
     "data": {
      "text/html": [
       "<div>\n",
       "<style scoped>\n",
       "    .dataframe tbody tr th:only-of-type {\n",
       "        vertical-align: middle;\n",
       "    }\n",
       "\n",
       "    .dataframe tbody tr th {\n",
       "        vertical-align: top;\n",
       "    }\n",
       "\n",
       "    .dataframe thead th {\n",
       "        text-align: right;\n",
       "    }\n",
       "</style>\n",
       "<table border=\"1\" class=\"dataframe\">\n",
       "  <thead>\n",
       "    <tr style=\"text-align: right;\">\n",
       "      <th></th>\n",
       "      <th>show_id</th>\n",
       "      <th>type</th>\n",
       "      <th>title</th>\n",
       "      <th>director</th>\n",
       "      <th>cast</th>\n",
       "      <th>country</th>\n",
       "      <th>date_added</th>\n",
       "      <th>release_year</th>\n",
       "      <th>rating</th>\n",
       "      <th>duration</th>\n",
       "      <th>listed_in</th>\n",
       "      <th>description</th>\n",
       "    </tr>\n",
       "  </thead>\n",
       "  <tbody>\n",
       "    <tr>\n",
       "      <th>0</th>\n",
       "      <td>s1</td>\n",
       "      <td>Movie</td>\n",
       "      <td>Dick Johnson Is Dead</td>\n",
       "      <td>Kirsten Johnson</td>\n",
       "      <td>NaN</td>\n",
       "      <td>United States</td>\n",
       "      <td>25-Sep-21</td>\n",
       "      <td>2020</td>\n",
       "      <td>PG-13</td>\n",
       "      <td>90 min</td>\n",
       "      <td>Documentaries</td>\n",
       "      <td>As her father nears the end of his life, filmm...</td>\n",
       "    </tr>\n",
       "    <tr>\n",
       "      <th>1</th>\n",
       "      <td>s2</td>\n",
       "      <td>TV Show</td>\n",
       "      <td>Blood &amp; Water</td>\n",
       "      <td>NaN</td>\n",
       "      <td>Ama Qamata, Khosi Ngema, Gail Mabalane, Thaban...</td>\n",
       "      <td>South Africa</td>\n",
       "      <td>24-Sep-21</td>\n",
       "      <td>2021</td>\n",
       "      <td>TV-MA</td>\n",
       "      <td>2 Seasons</td>\n",
       "      <td>International TV Shows, TV Dramas, TV Mysteries</td>\n",
       "      <td>After crossing paths at a party, a Cape Town t...</td>\n",
       "    </tr>\n",
       "    <tr>\n",
       "      <th>2</th>\n",
       "      <td>s3</td>\n",
       "      <td>TV Show</td>\n",
       "      <td>Ganglands</td>\n",
       "      <td>Julien Leclercq</td>\n",
       "      <td>Sami Bouajila, Tracy Gotoas, Samuel Jouy, Nabi...</td>\n",
       "      <td>NaN</td>\n",
       "      <td>24-Sep-21</td>\n",
       "      <td>2021</td>\n",
       "      <td>TV-MA</td>\n",
       "      <td>1 Season</td>\n",
       "      <td>Crime TV Shows, International TV Shows, TV Act...</td>\n",
       "      <td>To protect his family from a powerful drug lor...</td>\n",
       "    </tr>\n",
       "    <tr>\n",
       "      <th>3</th>\n",
       "      <td>s4</td>\n",
       "      <td>TV Show</td>\n",
       "      <td>Jailbirds New Orleans</td>\n",
       "      <td>NaN</td>\n",
       "      <td>NaN</td>\n",
       "      <td>NaN</td>\n",
       "      <td>24-Sep-21</td>\n",
       "      <td>2021</td>\n",
       "      <td>TV-MA</td>\n",
       "      <td>1 Season</td>\n",
       "      <td>Docuseries, Reality TV</td>\n",
       "      <td>Feuds, flirtations and toilet talk go down amo...</td>\n",
       "    </tr>\n",
       "    <tr>\n",
       "      <th>4</th>\n",
       "      <td>s5</td>\n",
       "      <td>TV Show</td>\n",
       "      <td>Kota Factory</td>\n",
       "      <td>NaN</td>\n",
       "      <td>Mayur More, Jitendra Kumar, Ranjan Raj, Alam K...</td>\n",
       "      <td>India</td>\n",
       "      <td>24-Sep-21</td>\n",
       "      <td>2021</td>\n",
       "      <td>TV-MA</td>\n",
       "      <td>2 Seasons</td>\n",
       "      <td>International TV Shows, Romantic TV Shows, TV ...</td>\n",
       "      <td>In a city of coaching centers known to train I...</td>\n",
       "    </tr>\n",
       "  </tbody>\n",
       "</table>\n",
       "</div>"
      ],
      "text/plain": [
       "  show_id     type                  title         director  \\\n",
       "0      s1    Movie   Dick Johnson Is Dead  Kirsten Johnson   \n",
       "1      s2  TV Show          Blood & Water              NaN   \n",
       "2      s3  TV Show              Ganglands  Julien Leclercq   \n",
       "3      s4  TV Show  Jailbirds New Orleans              NaN   \n",
       "4      s5  TV Show           Kota Factory              NaN   \n",
       "\n",
       "                                                cast        country  \\\n",
       "0                                                NaN  United States   \n",
       "1  Ama Qamata, Khosi Ngema, Gail Mabalane, Thaban...   South Africa   \n",
       "2  Sami Bouajila, Tracy Gotoas, Samuel Jouy, Nabi...            NaN   \n",
       "3                                                NaN            NaN   \n",
       "4  Mayur More, Jitendra Kumar, Ranjan Raj, Alam K...          India   \n",
       "\n",
       "  date_added  release_year rating   duration  \\\n",
       "0  25-Sep-21          2020  PG-13     90 min   \n",
       "1  24-Sep-21          2021  TV-MA  2 Seasons   \n",
       "2  24-Sep-21          2021  TV-MA   1 Season   \n",
       "3  24-Sep-21          2021  TV-MA   1 Season   \n",
       "4  24-Sep-21          2021  TV-MA  2 Seasons   \n",
       "\n",
       "                                           listed_in  \\\n",
       "0                                      Documentaries   \n",
       "1    International TV Shows, TV Dramas, TV Mysteries   \n",
       "2  Crime TV Shows, International TV Shows, TV Act...   \n",
       "3                             Docuseries, Reality TV   \n",
       "4  International TV Shows, Romantic TV Shows, TV ...   \n",
       "\n",
       "                                         description  \n",
       "0  As her father nears the end of his life, filmm...  \n",
       "1  After crossing paths at a party, a Cape Town t...  \n",
       "2  To protect his family from a powerful drug lor...  \n",
       "3  Feuds, flirtations and toilet talk go down amo...  \n",
       "4  In a city of coaching centers known to train I...  "
      ]
     },
     "execution_count": 2,
     "metadata": {},
     "output_type": "execute_result"
    }
   ],
   "source": [
    "data = pd.read_csv('./data/netflix_titles_1.csv')\n",
    "print(f'Netflix movie data frame shape: {data.shape} \\n')\n",
    "data.head()"
   ]
  },
  {
   "cell_type": "code",
   "execution_count": 3,
   "id": "subsequent-arthritis",
   "metadata": {},
   "outputs": [
    {
     "name": "stdout",
     "output_type": "stream",
     "text": [
      "<class 'pandas.core.frame.DataFrame'>\n",
      "RangeIndex: 8807 entries, 0 to 8806\n",
      "Data columns (total 12 columns):\n",
      " #   Column        Non-Null Count  Dtype \n",
      "---  ------        --------------  ----- \n",
      " 0   show_id       8807 non-null   object\n",
      " 1   type          8807 non-null   object\n",
      " 2   title         8807 non-null   object\n",
      " 3   director      6173 non-null   object\n",
      " 4   cast          7982 non-null   object\n",
      " 5   country       7976 non-null   object\n",
      " 6   date_added    8797 non-null   object\n",
      " 7   release_year  8807 non-null   int64 \n",
      " 8   rating        8803 non-null   object\n",
      " 9   duration      8804 non-null   object\n",
      " 10  listed_in     8807 non-null   object\n",
      " 11  description   8807 non-null   object\n",
      "dtypes: int64(1), object(11)\n",
      "memory usage: 825.8+ KB\n"
     ]
    }
   ],
   "source": [
    "data.info();"
   ]
  },
  {
   "cell_type": "markdown",
   "id": "selective-pioneer",
   "metadata": {},
   "source": [
    "## EDA"
   ]
  },
  {
   "cell_type": "code",
   "execution_count": 4,
   "id": "supreme-sympathy",
   "metadata": {},
   "outputs": [
    {
     "data": {
      "image/png": "[encoded data removed]",
      "text/plain": [
       "<Figure size 720x360 with 3 Axes>"
      ]
     },
     "metadata": {
      "needs_background": "light"
     },
     "output_type": "display_data"
    }
   ],
   "source": [
    "msno.bar(data, figsize=(10,5), fontsize=12);\n",
    "plt.title(\"Netflix Data Completeness\");"
   ]
  },
  {
   "cell_type": "code",
   "execution_count": 5,
   "id": "perfect-welcome",
   "metadata": {},
   "outputs": [
    {
     "data": {
      "image/png": "[encoded data removed]",
      "text/plain": [
       "<Figure size 1008x504 with 1 Axes>"
      ]
     },
     "metadata": {},
     "output_type": "display_data"
    }
   ],
   "source": [
    "labels = ['TV Shows', 'Movies']\n",
    "colors = sns.color_palette('Set2')\n",
    "plt.figure(figsize=(14, 7))\n",
    "plt.pie(data['type'].value_counts().sort_values(), labels = labels, colors = colors, autopct='%1.2f%%', explode=[0.1,0.1], startangle=90)\n",
    "plt.title(\"Type of Netflix Content\")\n",
    "plt.axis('equal')\n",
    "plt.show()"
   ]
  },
  {
   "cell_type": "code",
   "execution_count": 6,
   "id": "general-brooklyn",
   "metadata": {},
   "outputs": [
    {
     "data": {
      "image/png": "[encoded data removed]",
      "text/plain": [
       "<Figure size 1440x864 with 1 Axes>"
      ]
     },
     "metadata": {
      "needs_background": "light"
     },
     "output_type": "display_data"
    }
   ],
   "source": [
    "plt.figure(figsize=(20,12))\n",
    "sns.set(style=\"dark\")\n",
    "sns.countplot(y=\"release_year\", data=data, palette=\"Set2\", order=data['release_year'].value_counts().index[0:15])\n",
    "plt.title(\"Content Release Years\");"
   ]
  },
  {
   "cell_type": "code",
   "execution_count": 7,
   "id": "turkish-breakfast",
   "metadata": {},
   "outputs": [
    {
     "data": {
      "image/png": "[encoded data removed]",
      "text/plain": [
       "<Figure size 1440x864 with 1 Axes>"
      ]
     },
     "metadata": {},
     "output_type": "display_data"
    }
   ],
   "source": [
    "plt.figure(figsize=(20,12))\n",
    "sns.set_style(\"white\")\n",
    "sns.countplot(x=\"rating\", data=data, palette=\"Set2\", order=data['rating'].value_counts().index[0:15]);\n",
    "plt.title(\"Types of Movie Ratings\");\n",
    "plt.show();"
   ]
  },
  {
   "cell_type": "markdown",
   "id": "continuous-drilling",
   "metadata": {},
   "source": [
    "# Recommendation Systems\n",
    "\n",
    "There are several types of recommendation system techniques. Collaborative Filtering, Content Based Filtering and Hybrid Recommendation Systems being some of them. Each type of systems can be used to help predict or recommend a wide variety of products to consumers like similar movies or music. This Project is going to focus on Content Based Filtering."
   ]
  },
  {
   "cell_type": "markdown",
   "id": "impressive-syracuse",
   "metadata": {},
   "source": [
    "<img src=\"./pictures/recommendation_system.png\" style=\"height: 361px; width:420px; display: block; margin-left: auto; margin-right: auto\"/>"
   ]
  },
  {
   "cell_type": "markdown",
   "id": "therapeutic-romania",
   "metadata": {},
   "source": [
    "# Content Based Filtering\n",
    "\n",
    "Content-based filtering methods are based on the description of a product and a profile of the user preferred choices. Since this data set does not have any information about users, we will be finding recommendations for other movies based off a similarity metric of one movie to another."
   ]
  },
  {
   "cell_type": "markdown",
   "id": "going-wisconsin",
   "metadata": {},
   "source": [
    "<img src=\"./pictures/CBF.png\" style=\"height: 482px; width:371px; display: block; margin-left: auto; margin-right: auto\"/>"
   ]
  },
  {
   "cell_type": "markdown",
   "id": "featured-person",
   "metadata": {},
   "source": [
    "## Developing Recommendation Enging using director, cast, country, rating and listed_in (genre)"
   ]
  },
  {
   "cell_type": "code",
   "execution_count": 8,
   "id": "imperial-plate",
   "metadata": {},
   "outputs": [],
   "source": [
    "drop_columns = ['show_id', 'date_added', 'release_year', 'duration']\n",
    "for col in drop_columns:\n",
    "    data.drop(col, axis=1, inplace=True)"
   ]
  },
  {
   "cell_type": "markdown",
   "id": "subsequent-applicant",
   "metadata": {},
   "source": [
    "### Creating a Movie Feature Matrix"
   ]
  },
  {
   "cell_type": "code",
   "execution_count": 9,
   "id": "experienced-marshall",
   "metadata": {},
   "outputs": [],
   "source": [
    "def calc_movie_feature_matrix(feature_column: pd.Series) ->  np.ndarray:\n",
    "    \"\"\"\n",
    "    General Purpose Movie Feature Matrix function\n",
    "    example: pass in data['director'], to get a similarity matrix (#movies, #directors)\n",
    "    \"\"\"\n",
    "\n",
    "    isNan = False\n",
    "    feature_list = []\n",
    "    for i, items in enumerate(feature_column):\n",
    "        if pd.isna(items):\n",
    "            feature_list.append(['']) #place holder for nan values\n",
    "            isNan = True\n",
    "        else:\n",
    "            item_list = re.split(r', \\s*', items)\n",
    "            feature_list.append(item_list)\n",
    "        \n",
    "    flatten_features = [item for sublist in feature_list for item in sublist]\n",
    "    unique_features = list(np.unique(flatten_features))\n",
    "\n",
    "    if isNan == True: # check if Nan value was passed through.\n",
    "        unique_features = unique_features[1:] # '' is at index 0. this removes that value from list.\n",
    "    \n",
    "    index = {} #key: feature's name  value: column index\n",
    "    for i, name in enumerate(unique_features):\n",
    "        index[name] = i\n",
    "\n",
    "    matrix = np.zeros((feature_column.shape[0], len(unique_features))) # (#movies, #unique features)\n",
    "    for i, items in enumerate(feature_list): # update feature matrix with 1.0 where a movie has a particular feature. i.e specific director or actor. \n",
    "        movie = np.zeros(len(unique_features)) # movie array w/ all 0's\n",
    "        if len(items) > 1:\n",
    "            for item in items:\n",
    "                movie[index[item]] = 1.0\n",
    "            matrix[i] = movie\n",
    "        elif items == ['']:\n",
    "            matrix[i] = movie\n",
    "        else:\n",
    "            movie[index[items[0]]] = 1.0\n",
    "            matrix[i] = movie\n",
    "    return matrix"
   ]
  },
  {
   "cell_type": "code",
   "execution_count": 10,
   "id": "portuguese-queens",
   "metadata": {},
   "outputs": [
    {
     "name": "stdout",
     "output_type": "stream",
     "text": [
      "Movie Feature Matrix shape: (8807, 41617)\n",
      "[[0. 0. 0. ... 0. 0. 0.]\n",
      " [0. 0. 0. ... 0. 0. 0.]\n",
      " [0. 0. 0. ... 0. 0. 0.]\n",
      " ...\n",
      " [0. 0. 0. ... 0. 0. 0.]\n",
      " [0. 0. 0. ... 0. 0. 0.]\n",
      " [0. 0. 0. ... 0. 0. 0.]]\n"
     ]
    }
   ],
   "source": [
    "movie_director = calc_movie_feature_matrix(data['director'])\n",
    "movie_cast = calc_movie_feature_matrix(data['cast'])\n",
    "movie_country = calc_movie_feature_matrix(data['country'])\n",
    "movie_rating = calc_movie_feature_matrix(data['rating'])\n",
    "movie_genre = calc_movie_feature_matrix(data['listed_in'])\n",
    "feature_matrix = np.concatenate((movie_director, movie_cast, movie_country, movie_rating, movie_genre), axis = 1)\n",
    "print(f'Movie Feature Matrix shape: {feature_matrix.shape}')\n",
    "print(feature_matrix)"
   ]
  },
  {
   "cell_type": "markdown",
   "id": "noted-jones",
   "metadata": {},
   "source": [
    "## Jaccard Similarity / Jaccard Index\n",
    "\n",
    "The Jaccard Similarity Index is a measure of the similarity between two sets of data. It is a common proximity measurement used to compute the similarity between two objects, such as two text documents.\n",
    "\n",
    "$$J(A,B) = {{|A \\cap B|}\\over{|A \\cup B|}} = {{|A \\cap B|}\\over{|A| + |B| - |A \\cap B|}}$$"
   ]
  },
  {
   "cell_type": "code",
   "execution_count": 11,
   "id": "imperial-ranking",
   "metadata": {},
   "outputs": [],
   "source": [
    "def jaccsim(feature_matrix: pd.DataFrame) -> np.ndarray:\n",
    "    \"\"\"\n",
    "    Create item-item similarity using Jaccard similarity\n",
    "    J(A,B) = |A union B| / | A intersect B|\n",
    "    \"\"\"\n",
    "    jacc_sim = np.zeros((feature_matrix.shape[0],feature_matrix.shape[0]))\n",
    "    a = feature_matrix\n",
    "    b = feature_matrix.T\n",
    "\n",
    "    intersection = a @ b\n",
    "\n",
    "    a_mag = a.sum(axis=1)\n",
    "    a_mag= a_mag.reshape((len(a_mag),1))\n",
    "    b_mag = b.sum(axis=0)\n",
    "\n",
    "    union = (a_mag + b_mag) - intersection\n",
    "\n",
    "    jacc_sim = np.divide(intersection, union, out=np.zeros_like(intersection), where=union!=0)\n",
    "\n",
    "    return jacc_sim"
   ]
  },
  {
   "cell_type": "code",
   "execution_count": null,
   "id": "dutch-television",
   "metadata": {},
   "outputs": [],
   "source": []
  },
  {
   "cell_type": "markdown",
   "id": "alone-dance",
   "metadata": {},
   "source": [
    "## Cosine Similary\n",
    "$$\\text{cosine similarity} =S_C (A,B):= \\cos(\\theta) = {\\mathbf{A} \\cdot \\mathbf{B} \\over \\|\\mathbf{A}\\| \\|\\mathbf{B}\\|} = \\frac{ \\sum\\limits_{i=1}^{n}{A_i  B_i} }{ \\sqrt{\\sum\\limits_{i=1}^{n}{A_i^2}}  \\sqrt{\\sum\\limits_{i=1}^{n}{B_i^2}} }$$\n"
   ]
  },
  {
   "cell_type": "code",
   "execution_count": 12,
   "id": "recent-weight",
   "metadata": {},
   "outputs": [],
   "source": [
    "def cossim(feature_matrix: pd.DataFrame) -> np.ndarray:\n",
    "    \"\"\"\n",
    "    Create item-item similarity using Cosine Similarity\n",
    "    cossim = A dot B / ||A||*||B||\n",
    "    \"\"\"\n",
    "    cos_sim = np.zeros((feature_matrix.shape[0],feature_matrix.shape[0]))\n",
    "    a = feature_matrix\n",
    "    b = feature_matrix.T\n",
    "    \n",
    "    numerator = a @ b\n",
    "    \n",
    "    a_mag = np.sqrt((a**2).sum(axis=1))     # ||A||\n",
    "    a_mag = a_mag.reshape((len(a_mag),1))   # ||A|| reshaped to to help with matrix multiplication\n",
    "    b_mag = np.sqrt((b**2).sum(axis=0))     # ||B||\n",
    "\n",
    "    denominator = a_mag * b_mag             # ||A|| * ||B||\n",
    "\n",
    "    cos_sim = np.divide(numerator, denominator, out=np.zeros_like(numerator), where=denominator!=0) #      (A dot B) / ||A||*||B||  \n",
    "    return cos_sim"
   ]
  },
  {
   "cell_type": "markdown",
   "id": "contrary-shadow",
   "metadata": {},
   "source": [
    "## Creating Recommendation System Function \n"
   ]
  },
  {
   "cell_type": "code",
   "execution_count": 13,
   "id": "lesser-parallel",
   "metadata": {},
   "outputs": [],
   "source": [
    "def get_recommendation(title: str, similarity_matrix: np.ndarray) -> pd.DataFrame:\n",
    "    \"\"\"\n",
    "    generates top 5 recommended movies to watch, based off of inputed title.\n",
    "    title: string\n",
    "    similarity_matrix: similarity function. ex: jacsim or cossim\n",
    "    \"\"\"\n",
    "    if title in list(data['title']):\n",
    "        movie_indices = pd.Series(data.index, index= data['title'])\n",
    "        idx = movie_indices[title]\n",
    "        sim_scores = enumerate(similarity_matrix[idx])\n",
    "        sim_scores = sorted(sim_scores, key=lambda x: x[1], reverse=True)\n",
    "        top_5_sim_scores = sim_scores[1:6]\n",
    "        top_5_index = [x[0] for x in top_5_sim_scores]\n",
    "        result = data.iloc[top_5_index]\n",
    "        print(sim_scores[0:6])\n",
    "        return result\n",
    "    else:\n",
    "        print('Title Not Found')"
   ]
  },
  {
   "cell_type": "code",
   "execution_count": null,
   "id": "proud-disease",
   "metadata": {},
   "outputs": [],
   "source": []
  },
  {
   "cell_type": "code",
   "execution_count": null,
   "id": "lucky-explorer",
   "metadata": {},
   "outputs": [],
   "source": [
    "jaccard_similarity = jaccsim(feature_matrix)\n",
    "cosine_similarity = cossim(feature_matrix)"
   ]
  },
  {
   "cell_type": "code",
   "execution_count": null,
   "id": "transsexual-production",
   "metadata": {},
   "outputs": [],
   "source": []
  },
  {
   "cell_type": "code",
   "execution_count": null,
   "id": "optimum-surge",
   "metadata": {},
   "outputs": [],
   "source": [
    "get_recommendation('Austin Powers: International Man of Mystery', jaccard_similarity)"
   ]
  },
  {
   "cell_type": "code",
   "execution_count": null,
   "id": "accepting-polish",
   "metadata": {},
   "outputs": [],
   "source": [
    "get_recommendation('Dark', jaccard_similarity)"
   ]
  },
  {
   "cell_type": "code",
   "execution_count": null,
   "id": "herbal-biology",
   "metadata": {},
   "outputs": [],
   "source": [
    "get_recommendation('American Psycho', jaccard_similarity)"
   ]
  },
  {
   "cell_type": "code",
   "execution_count": null,
   "id": "differential-privilege",
   "metadata": {},
   "outputs": [],
   "source": [
    "get_recommendation('Stranger Things', cosine_similarity)"
   ]
  },
  {
   "cell_type": "code",
   "execution_count": null,
   "id": "acute-publisher",
   "metadata": {},
   "outputs": [],
   "source": [
    "get_recommendation('Hook', jaccard_similarity)"
   ]
  },
  {
   "cell_type": "code",
   "execution_count": null,
   "id": "reasonable-percentage",
   "metadata": {},
   "outputs": [],
   "source": [
    "get_recommendation('Peaky Blinders', cosine_similarity)"
   ]
  },
  {
   "cell_type": "code",
   "execution_count": null,
   "id": "opened-alcohol",
   "metadata": {},
   "outputs": [],
   "source": [
    "# c_description = clean_text(data)\n",
    "# tfidf_vectorizer = TfidfVectorizer(stop_words='english', max_df = 0.95, norm = 'l2')\n",
    "# tfidf = tfidf_vectorizer.fit_transform(c_description)\n",
    "# cos_sim = linear_kernel(tfidf, tfidf)"
   ]
  },
  {
   "cell_type": "code",
   "execution_count": null,
   "id": "relative-restriction",
   "metadata": {},
   "outputs": [],
   "source": []
  },
  {
   "cell_type": "code",
   "execution_count": null,
   "id": "stone-operator",
   "metadata": {},
   "outputs": [],
   "source": []
  },
  {
   "cell_type": "code",
   "execution_count": 18,
   "id": "boring-stewart",
   "metadata": {},
   "outputs": [],
   "source": [
    "# get_recommendation('Peaky Blinders', cos_sim)"
   ]
  },
  {
   "cell_type": "markdown",
   "id": "neither-bouquet",
   "metadata": {},
   "source": [
    "### TF-IDF"
   ]
  },
  {
   "cell_type": "code",
   "execution_count": 19,
   "id": "broke-macro",
   "metadata": {},
   "outputs": [],
   "source": [
    "tv_shows = data[data['type'] == 'TV Show']\n",
    "movies = data[data['type'] == 'Movie']\n",
    "tv_shows.reset_index(inplace=True)\n",
    "movies.reset_index(inplace=True)"
   ]
  },
  {
   "cell_type": "code",
   "execution_count": 20,
   "id": "weekly-testimony",
   "metadata": {},
   "outputs": [],
   "source": [
    "def clean_text(df: pd.Series) -> pd.Series:\n",
    "    stop_words = stopwords.words('english')\n",
    "    removed_stop_words = df['description'].apply(lambda x: ' '.join([word for word in x.split() if word not in (stop_words)]))\n",
    "    cleaned_description = []\n",
    "    for i, v in enumerate(removed_stop_words):\n",
    "        lower_case_desc = v.lower()\n",
    "        cleaned_description.append(lower_case_desc) \n",
    "    df = df.assign(c_description=cleaned_description)\n",
    "    return df.c_description"
   ]
  },
  {
   "cell_type": "code",
   "execution_count": 21,
   "id": "basic-complaint",
   "metadata": {},
   "outputs": [],
   "source": [
    "def clean_text2(df: pd.Series) -> pd.Series: #with lementing, but made shit worse\n",
    "    wordnet_lemmatizer = WordNetLemmatizer()\n",
    "    \n",
    "    stop_words = stopwords.words('english')\n",
    "    removed_stop_words = df['description'].apply(lambda x: ' '.join([word for word in x.split() if word not in (stop_words)]))\n",
    "    cleaned_description = []\n",
    "    for i, v in enumerate(removed_stop_words):\n",
    "        string = re.sub(r'[^-\\w\\s]+', '', removed_stop_words[i]) #\n",
    "        string = re.sub(r'[^\\w\\s]+', ' ', string) #replaced - with space\n",
    "        string = re.sub(' +', ' ', string) #removes any extra space\n",
    "        lower_case_desc = string.lower()\n",
    "        token_text = word_tokenize(lower_case_desc)\n",
    "        lem = [wordnet_lemmatizer.lemmatize(word.lower()) for word in token_text] \n",
    "        cleaned_description.append(\" \".join(lem)) \n",
    "    df = df.assign(c_description=cleaned_description)\n",
    "    return df.c_description\n",
    "\n",
    "\n",
    "    "
   ]
  },
  {
   "cell_type": "code",
   "execution_count": 22,
   "id": "uniform-genetics",
   "metadata": {},
   "outputs": [],
   "source": [
    "c_description = clean_text(tv_shows)\n",
    "tfidf_vectorizer = TfidfVectorizer(stop_words='english', max_df = 0.95, norm = 'l2')\n",
    "tfidf = tfidf_vectorizer.fit_transform(c_description)\n",
    "cos_sim = linear_kernel(tfidf, tfidf)"
   ]
  },
  {
   "cell_type": "code",
   "execution_count": 23,
   "id": "detailed-entrance",
   "metadata": {},
   "outputs": [],
   "source": [
    "def get_recommendation_tv(title: str, similarity_matrix: np.ndarray) -> pd.DataFrame:\n",
    "        if title in list(tv_shows['title']):\n",
    "            movie_indices = pd.Series(tv_shows.index, index= tv_shows['title'])\n",
    "            idx = movie_indices[title]\n",
    "            sim_scores = enumerate(similarity_matrix[idx])\n",
    "            sim_scores = sorted(sim_scores, key=lambda x: x[1], reverse=True)\n",
    "            top_5_sim_scores = sim_scores[1:6]\n",
    "            top_5_index = [x[0] for x in top_5_sim_scores]\n",
    "            result = tv_shows.iloc[top_5_index]\n",
    "            print(sim_scores[0:6])\n",
    "            return result\n",
    "        else:\n",
    "            print('Title Not Found')"
   ]
  },
  {
   "cell_type": "code",
   "execution_count": 24,
   "id": "dutch-writing",
   "metadata": {},
   "outputs": [],
   "source": [
    "def get_recommendation_movie(title: str, similarity_matrix: np.ndarray) -> pd.DataFrame:\n",
    "        if title in list(data['title']):\n",
    "            movie_indices = pd.Series(movies.index, index= movies['title'])\n",
    "            idx = movie_indices[title]\n",
    "            sim_scores = enumerate(similarity_matrix[idx])\n",
    "            sim_scores = sorted(sim_scores, key=lambda x: x[1], reverse=True)\n",
    "            top_5_sim_scores = sim_scores[1:6]\n",
    "            top_5_index = [x[0] for x in top_5_sim_scores]\n",
    "            result = movies.iloc[top_5_index]\n",
    "            print(sim_scores[0:6])\n",
    "            return result\n",
    "        else:\n",
    "            print('Title Not Found')"
   ]
  },
  {
   "cell_type": "code",
   "execution_count": 25,
   "id": "architectural-inspiration",
   "metadata": {},
   "outputs": [
    {
     "name": "stdout",
     "output_type": "stream",
     "text": [
      "[(64, 1.0), (2359, 0.23300665026325257), (2071, 0.16020843294637402), (1228, 0.15911713296343213), (321, 0.12636237511246606), (2069, 0.11626680358555272)]\n"
     ]
    },
    {
     "data": {
      "text/html": [
       "<div>\n",
       "<style scoped>\n",
       "    .dataframe tbody tr th:only-of-type {\n",
       "        vertical-align: middle;\n",
       "    }\n",
       "\n",
       "    .dataframe tbody tr th {\n",
       "        vertical-align: top;\n",
       "    }\n",
       "\n",
       "    .dataframe thead th {\n",
       "        text-align: right;\n",
       "    }\n",
       "</style>\n",
       "<table border=\"1\" class=\"dataframe\">\n",
       "  <thead>\n",
       "    <tr style=\"text-align: right;\">\n",
       "      <th></th>\n",
       "      <th>index</th>\n",
       "      <th>type</th>\n",
       "      <th>title</th>\n",
       "      <th>director</th>\n",
       "      <th>cast</th>\n",
       "      <th>country</th>\n",
       "      <th>rating</th>\n",
       "      <th>listed_in</th>\n",
       "      <th>description</th>\n",
       "    </tr>\n",
       "  </thead>\n",
       "  <tbody>\n",
       "    <tr>\n",
       "      <th>2359</th>\n",
       "      <td>7637</td>\n",
       "      <td>TV Show</td>\n",
       "      <td>Winter Sun</td>\n",
       "      <td>NaN</td>\n",
       "      <td>Şükrü Özyıldız, Aslı Enver, Şenay Gürler, Başa...</td>\n",
       "      <td>Turkey</td>\n",
       "      <td>TV-MA</td>\n",
       "      <td>International TV Shows, TV Dramas, TV Thrillers</td>\n",
       "      <td>Years after ruthless businessmen kill his fath...</td>\n",
       "    </tr>\n",
       "    <tr>\n",
       "      <th>2071</th>\n",
       "      <td>6739</td>\n",
       "      <td>TV Show</td>\n",
       "      <td>The Paper</td>\n",
       "      <td>NaN</td>\n",
       "      <td>Branka Katić, Trpimir Jurkic, Aleksandar Cvetk...</td>\n",
       "      <td>Croatia</td>\n",
       "      <td>TV-MA</td>\n",
       "      <td>International TV Shows, TV Dramas</td>\n",
       "      <td>A construction magnate takes over a struggling...</td>\n",
       "    </tr>\n",
       "    <tr>\n",
       "      <th>1228</th>\n",
       "      <td>4048</td>\n",
       "      <td>TV Show</td>\n",
       "      <td>Merry Happy Whatever</td>\n",
       "      <td>NaN</td>\n",
       "      <td>Dennis Quaid, Bridgit Mendler, Brent Morin, As...</td>\n",
       "      <td>United States</td>\n",
       "      <td>TV-PG</td>\n",
       "      <td>TV Comedies</td>\n",
       "      <td>A struggling LA musician tries to win over his...</td>\n",
       "    </tr>\n",
       "    <tr>\n",
       "      <th>321</th>\n",
       "      <td>1193</td>\n",
       "      <td>TV Show</td>\n",
       "      <td>Can't Cope, Won't Cope</td>\n",
       "      <td>NaN</td>\n",
       "      <td>Seána Kerslake, Nika McGuigan, Sheila Moylette...</td>\n",
       "      <td>Ireland</td>\n",
       "      <td>TV-MA</td>\n",
       "      <td>TV Comedies, TV Dramas</td>\n",
       "      <td>In Dublin, friends Aisling and Danielle must c...</td>\n",
       "    </tr>\n",
       "    <tr>\n",
       "      <th>2069</th>\n",
       "      <td>6727</td>\n",
       "      <td>TV Show</td>\n",
       "      <td>The Originals</td>\n",
       "      <td>NaN</td>\n",
       "      <td>Joseph Morgan, Daniel Gillies, Phoebe Tonkin, ...</td>\n",
       "      <td>United States</td>\n",
       "      <td>TV-14</td>\n",
       "      <td>TV Dramas, TV Horror, TV Mysteries</td>\n",
       "      <td>The Mikaelsons move to New Orleans and form an...</td>\n",
       "    </tr>\n",
       "  </tbody>\n",
       "</table>\n",
       "</div>"
      ],
      "text/plain": [
       "      index     type                   title director  \\\n",
       "2359   7637  TV Show              Winter Sun      NaN   \n",
       "2071   6739  TV Show               The Paper      NaN   \n",
       "1228   4048  TV Show    Merry Happy Whatever      NaN   \n",
       "321    1193  TV Show  Can't Cope, Won't Cope      NaN   \n",
       "2069   6727  TV Show           The Originals      NaN   \n",
       "\n",
       "                                                   cast        country rating  \\\n",
       "2359  Şükrü Özyıldız, Aslı Enver, Şenay Gürler, Başa...         Turkey  TV-MA   \n",
       "2071  Branka Katić, Trpimir Jurkic, Aleksandar Cvetk...        Croatia  TV-MA   \n",
       "1228  Dennis Quaid, Bridgit Mendler, Brent Morin, As...  United States  TV-PG   \n",
       "321   Seána Kerslake, Nika McGuigan, Sheila Moylette...        Ireland  TV-MA   \n",
       "2069  Joseph Morgan, Daniel Gillies, Phoebe Tonkin, ...  United States  TV-14   \n",
       "\n",
       "                                            listed_in  \\\n",
       "2359  International TV Shows, TV Dramas, TV Thrillers   \n",
       "2071                International TV Shows, TV Dramas   \n",
       "1228                                      TV Comedies   \n",
       "321                            TV Comedies, TV Dramas   \n",
       "2069               TV Dramas, TV Horror, TV Mysteries   \n",
       "\n",
       "                                            description  \n",
       "2359  Years after ruthless businessmen kill his fath...  \n",
       "2071  A construction magnate takes over a struggling...  \n",
       "1228  A struggling LA musician tries to win over his...  \n",
       "321   In Dublin, friends Aisling and Danielle must c...  \n",
       "2069  The Mikaelsons move to New Orleans and form an...  "
      ]
     },
     "execution_count": 25,
     "metadata": {},
     "output_type": "execute_result"
    }
   ],
   "source": [
    "get_recommendation_tv('After Life', cos_sim)"
   ]
  },
  {
   "cell_type": "code",
   "execution_count": 26,
   "id": "rational-hacker",
   "metadata": {},
   "outputs": [
    {
     "name": "stdout",
     "output_type": "stream",
     "text": [
      "[(64, 1.0), (2359, 0.23300665026325257), (2071, 0.16020843294637402), (1228, 0.15911713296343213), (321, 0.12636237511246606), (2069, 0.11626680358555272)]\n"
     ]
    },
    {
     "data": {
      "text/html": [
       "<div>\n",
       "<style scoped>\n",
       "    .dataframe tbody tr th:only-of-type {\n",
       "        vertical-align: middle;\n",
       "    }\n",
       "\n",
       "    .dataframe tbody tr th {\n",
       "        vertical-align: top;\n",
       "    }\n",
       "\n",
       "    .dataframe thead th {\n",
       "        text-align: right;\n",
       "    }\n",
       "</style>\n",
       "<table border=\"1\" class=\"dataframe\">\n",
       "  <thead>\n",
       "    <tr style=\"text-align: right;\">\n",
       "      <th></th>\n",
       "      <th>index</th>\n",
       "      <th>type</th>\n",
       "      <th>title</th>\n",
       "      <th>director</th>\n",
       "      <th>cast</th>\n",
       "      <th>country</th>\n",
       "      <th>rating</th>\n",
       "      <th>listed_in</th>\n",
       "      <th>description</th>\n",
       "    </tr>\n",
       "  </thead>\n",
       "  <tbody>\n",
       "    <tr>\n",
       "      <th>2359</th>\n",
       "      <td>7637</td>\n",
       "      <td>TV Show</td>\n",
       "      <td>Winter Sun</td>\n",
       "      <td>NaN</td>\n",
       "      <td>Şükrü Özyıldız, Aslı Enver, Şenay Gürler, Başa...</td>\n",
       "      <td>Turkey</td>\n",
       "      <td>TV-MA</td>\n",
       "      <td>International TV Shows, TV Dramas, TV Thrillers</td>\n",
       "      <td>Years after ruthless businessmen kill his fath...</td>\n",
       "    </tr>\n",
       "    <tr>\n",
       "      <th>2071</th>\n",
       "      <td>6739</td>\n",
       "      <td>TV Show</td>\n",
       "      <td>The Paper</td>\n",
       "      <td>NaN</td>\n",
       "      <td>Branka Katić, Trpimir Jurkic, Aleksandar Cvetk...</td>\n",
       "      <td>Croatia</td>\n",
       "      <td>TV-MA</td>\n",
       "      <td>International TV Shows, TV Dramas</td>\n",
       "      <td>A construction magnate takes over a struggling...</td>\n",
       "    </tr>\n",
       "    <tr>\n",
       "      <th>1228</th>\n",
       "      <td>4048</td>\n",
       "      <td>TV Show</td>\n",
       "      <td>Merry Happy Whatever</td>\n",
       "      <td>NaN</td>\n",
       "      <td>Dennis Quaid, Bridgit Mendler, Brent Morin, As...</td>\n",
       "      <td>United States</td>\n",
       "      <td>TV-PG</td>\n",
       "      <td>TV Comedies</td>\n",
       "      <td>A struggling LA musician tries to win over his...</td>\n",
       "    </tr>\n",
       "    <tr>\n",
       "      <th>321</th>\n",
       "      <td>1193</td>\n",
       "      <td>TV Show</td>\n",
       "      <td>Can't Cope, Won't Cope</td>\n",
       "      <td>NaN</td>\n",
       "      <td>Seána Kerslake, Nika McGuigan, Sheila Moylette...</td>\n",
       "      <td>Ireland</td>\n",
       "      <td>TV-MA</td>\n",
       "      <td>TV Comedies, TV Dramas</td>\n",
       "      <td>In Dublin, friends Aisling and Danielle must c...</td>\n",
       "    </tr>\n",
       "    <tr>\n",
       "      <th>2069</th>\n",
       "      <td>6727</td>\n",
       "      <td>TV Show</td>\n",
       "      <td>The Originals</td>\n",
       "      <td>NaN</td>\n",
       "      <td>Joseph Morgan, Daniel Gillies, Phoebe Tonkin, ...</td>\n",
       "      <td>United States</td>\n",
       "      <td>TV-14</td>\n",
       "      <td>TV Dramas, TV Horror, TV Mysteries</td>\n",
       "      <td>The Mikaelsons move to New Orleans and form an...</td>\n",
       "    </tr>\n",
       "  </tbody>\n",
       "</table>\n",
       "</div>"
      ],
      "text/plain": [
       "      index     type                   title director  \\\n",
       "2359   7637  TV Show              Winter Sun      NaN   \n",
       "2071   6739  TV Show               The Paper      NaN   \n",
       "1228   4048  TV Show    Merry Happy Whatever      NaN   \n",
       "321    1193  TV Show  Can't Cope, Won't Cope      NaN   \n",
       "2069   6727  TV Show           The Originals      NaN   \n",
       "\n",
       "                                                   cast        country rating  \\\n",
       "2359  Şükrü Özyıldız, Aslı Enver, Şenay Gürler, Başa...         Turkey  TV-MA   \n",
       "2071  Branka Katić, Trpimir Jurkic, Aleksandar Cvetk...        Croatia  TV-MA   \n",
       "1228  Dennis Quaid, Bridgit Mendler, Brent Morin, As...  United States  TV-PG   \n",
       "321   Seána Kerslake, Nika McGuigan, Sheila Moylette...        Ireland  TV-MA   \n",
       "2069  Joseph Morgan, Daniel Gillies, Phoebe Tonkin, ...  United States  TV-14   \n",
       "\n",
       "                                            listed_in  \\\n",
       "2359  International TV Shows, TV Dramas, TV Thrillers   \n",
       "2071                International TV Shows, TV Dramas   \n",
       "1228                                      TV Comedies   \n",
       "321                            TV Comedies, TV Dramas   \n",
       "2069               TV Dramas, TV Horror, TV Mysteries   \n",
       "\n",
       "                                            description  \n",
       "2359  Years after ruthless businessmen kill his fath...  \n",
       "2071  A construction magnate takes over a struggling...  \n",
       "1228  A struggling LA musician tries to win over his...  \n",
       "321   In Dublin, friends Aisling and Danielle must c...  \n",
       "2069  The Mikaelsons move to New Orleans and form an...  "
      ]
     },
     "execution_count": 26,
     "metadata": {},
     "output_type": "execute_result"
    }
   ],
   "source": [
    "get_recommendation_tv('After Life', cos_sim)"
   ]
  },
  {
   "cell_type": "code",
   "execution_count": 27,
   "id": "periodic-norman",
   "metadata": {},
   "outputs": [
    {
     "name": "stdout",
     "output_type": "stream",
     "text": [
      "[(1941, 0.9999999999999996), (1435, 0.11609816342652843), (729, 0.10771714480538544), (779, 0.10478164023365995), (1927, 0.09492108475745697), (1013, 0.09357276763381683)]\n"
     ]
    },
    {
     "data": {
      "text/html": [
       "<div>\n",
       "<style scoped>\n",
       "    .dataframe tbody tr th:only-of-type {\n",
       "        vertical-align: middle;\n",
       "    }\n",
       "\n",
       "    .dataframe tbody tr th {\n",
       "        vertical-align: top;\n",
       "    }\n",
       "\n",
       "    .dataframe thead th {\n",
       "        text-align: right;\n",
       "    }\n",
       "</style>\n",
       "<table border=\"1\" class=\"dataframe\">\n",
       "  <thead>\n",
       "    <tr style=\"text-align: right;\">\n",
       "      <th></th>\n",
       "      <th>index</th>\n",
       "      <th>type</th>\n",
       "      <th>title</th>\n",
       "      <th>director</th>\n",
       "      <th>cast</th>\n",
       "      <th>country</th>\n",
       "      <th>rating</th>\n",
       "      <th>listed_in</th>\n",
       "      <th>description</th>\n",
       "    </tr>\n",
       "  </thead>\n",
       "  <tbody>\n",
       "    <tr>\n",
       "      <th>1435</th>\n",
       "      <td>2042</td>\n",
       "      <td>Movie</td>\n",
       "      <td>Evening Shadows</td>\n",
       "      <td>Sridhar Rangayan</td>\n",
       "      <td>Mona Ambegaonkar, Anant Mahadevan, Devansh Dos...</td>\n",
       "      <td>India</td>\n",
       "      <td>TV-PG</td>\n",
       "      <td>Dramas, Independent Movies, International Movies</td>\n",
       "      <td>When her son comes out to her as gay, a religi...</td>\n",
       "    </tr>\n",
       "    <tr>\n",
       "      <th>729</th>\n",
       "      <td>974</td>\n",
       "      <td>Movie</td>\n",
       "      <td>Bleach The Movie: Fade to Black</td>\n",
       "      <td>Noriyuki Abe</td>\n",
       "      <td>Masakazu Morita, Fumiko Orikasa, Aya Hirano, H...</td>\n",
       "      <td>Japan</td>\n",
       "      <td>TV-PG</td>\n",
       "      <td>Action &amp; Adventure, Anime Features, Sci-Fi &amp; F...</td>\n",
       "      <td>When his mind is fogged by a scimitar-weilding...</td>\n",
       "    </tr>\n",
       "    <tr>\n",
       "      <th>779</th>\n",
       "      <td>1053</td>\n",
       "      <td>Movie</td>\n",
       "      <td>Born Beautiful</td>\n",
       "      <td>Perci Intalan</td>\n",
       "      <td>Martin del Rosario, Lou Veloso, Chai Fonacier,...</td>\n",
       "      <td>Philippines</td>\n",
       "      <td>TV-MA</td>\n",
       "      <td>Comedies, Dramas, International Movies</td>\n",
       "      <td>After her best friend dies, Barbs attempts to ...</td>\n",
       "    </tr>\n",
       "    <tr>\n",
       "      <th>1927</th>\n",
       "      <td>2780</td>\n",
       "      <td>Movie</td>\n",
       "      <td>Holy Goalie</td>\n",
       "      <td>Curro Velázquez</td>\n",
       "      <td>Karra Elejalde, Alain Hernández, Juan Manuel M...</td>\n",
       "      <td>Spain</td>\n",
       "      <td>TV-MA</td>\n",
       "      <td>Comedies, International Movies, Sports Movies</td>\n",
       "      <td>A young priest coaches a team of uncoordinated...</td>\n",
       "    </tr>\n",
       "    <tr>\n",
       "      <th>1013</th>\n",
       "      <td>1402</td>\n",
       "      <td>Movie</td>\n",
       "      <td>City of Joy</td>\n",
       "      <td>Madeleine Gavin</td>\n",
       "      <td>NaN</td>\n",
       "      <td>United States,</td>\n",
       "      <td>TV-MA</td>\n",
       "      <td>Documentaries</td>\n",
       "      <td>Women who've been sexually brutalized in war-t...</td>\n",
       "    </tr>\n",
       "  </tbody>\n",
       "</table>\n",
       "</div>"
      ],
      "text/plain": [
       "      index   type                            title          director  \\\n",
       "1435   2042  Movie                  Evening Shadows  Sridhar Rangayan   \n",
       "729     974  Movie  Bleach The Movie: Fade to Black      Noriyuki Abe   \n",
       "779    1053  Movie                   Born Beautiful     Perci Intalan   \n",
       "1927   2780  Movie                      Holy Goalie   Curro Velázquez   \n",
       "1013   1402  Movie                      City of Joy   Madeleine Gavin   \n",
       "\n",
       "                                                   cast         country  \\\n",
       "1435  Mona Ambegaonkar, Anant Mahadevan, Devansh Dos...           India   \n",
       "729   Masakazu Morita, Fumiko Orikasa, Aya Hirano, H...           Japan   \n",
       "779   Martin del Rosario, Lou Veloso, Chai Fonacier,...     Philippines   \n",
       "1927  Karra Elejalde, Alain Hernández, Juan Manuel M...           Spain   \n",
       "1013                                                NaN  United States,   \n",
       "\n",
       "     rating                                          listed_in  \\\n",
       "1435  TV-PG   Dramas, Independent Movies, International Movies   \n",
       "729   TV-PG  Action & Adventure, Anime Features, Sci-Fi & F...   \n",
       "779   TV-MA             Comedies, Dramas, International Movies   \n",
       "1927  TV-MA      Comedies, International Movies, Sports Movies   \n",
       "1013  TV-MA                                      Documentaries   \n",
       "\n",
       "                                            description  \n",
       "1435  When her son comes out to her as gay, a religi...  \n",
       "729   When his mind is fogged by a scimitar-weilding...  \n",
       "779   After her best friend dies, Barbs attempts to ...  \n",
       "1927  A young priest coaches a team of uncoordinated...  \n",
       "1013  Women who've been sexually brutalized in war-t...  "
      ]
     },
     "execution_count": 27,
     "metadata": {},
     "output_type": "execute_result"
    }
   ],
   "source": [
    "get_recommendation_movie('Hook', cos_sim)"
   ]
  },
  {
   "cell_type": "code",
   "execution_count": 28,
   "id": "fuzzy-petersburg",
   "metadata": {
    "jupyter": {
     "source_hidden": true
    }
   },
   "outputs": [],
   "source": [
    "# def calc_movie_cast_matrix():\n",
    "#     movie_cast = []\n",
    "#     for i, names in enumerate(data['cast']):\n",
    "#         if pd.isna(names):\n",
    "#             movie_cast.append(['']) #place holder for nan values\n",
    "#         else:\n",
    "#             cast_members = re.split(r', \\s*', names)\n",
    "#             movie_cast.append(cast_members)\n",
    "\n",
    "#     actors = [item for sublist in movie_cast for item in sublist]\n",
    "#     unique_actors = list(np.unique(actors))\n",
    "#     unique_actors = unique_actors[1:] # '' is at index 0. this removes that value from list.\n",
    "\n",
    "#     index = {} #key: actor's name value: column index\n",
    "#     for i, name in enumerate(unique_actors):\n",
    "#         index[name] = i\n",
    "\n",
    "#     matrix = np.zeros((7787, len(unique_actors))) #(#movies, #unique actors)\n",
    "\n",
    "#     for i , names in enumerate(movie_cast):\n",
    "#         movie = np.zeros(len(unique_actors))\n",
    "#         if len(names) > 1:\n",
    "#             for name in names:\n",
    "#                 movie[index[name]] = 1.0\n",
    "#             matrix[i] = movie\n",
    "#         elif names == ['']:\n",
    "#             matrix[i] = movie \n",
    "#         else:\n",
    "#             movie[index[names[0]]] = 1.0\n",
    "#             matrix[i] = movie\n",
    "\n",
    "#     return matrix"
   ]
  },
  {
   "cell_type": "code",
   "execution_count": 29,
   "id": "other-spencer",
   "metadata": {
    "jupyter": {
     "source_hidden": true
    }
   },
   "outputs": [],
   "source": [
    "# # creates a movie director matrix of shape (7787, 4478)\n",
    "# def create_movie_director():\n",
    "#     movie_directors = []\n",
    "#     for i, names in enumerate(data['director']):\n",
    "#         if pd.isna(names):\n",
    "#             movie_directors.append(['']) #place holder for Nan values\n",
    "#         else:\n",
    "#             director = re.split(r', \\s*', names)\n",
    "#             movie_directors.append(director)\n",
    "\n",
    "#     all_directors = [item for sublist in movie_directors for item in sublist]\n",
    "#     unique_directors = list(np.unique(all_directors))\n",
    "#     unique_directors = unique_directors[1:]\n",
    "\n",
    "\n",
    "#     index = {} # key: director name value: column index.\n",
    "#     for i, name in enumerate(unique_directors):\n",
    "#         index[name] = i\n",
    "\n",
    "#     matrix = np.zeros((7787, len(unique_directors))) # (#movies, #uniquedirectors)\n",
    "\n",
    "#     for i , names in enumerate(movie_directors):\n",
    "#         movie = np.zeros(len(unique_directors))\n",
    "#         if len(names) > 1:\n",
    "#             for name in names:\n",
    "#                 movie[index[name]] = 1.0\n",
    "#             matrix[i] = movie\n",
    "#         elif names == ['']:\n",
    "#             matrix[i] = movie \n",
    "#         else:\n",
    "#             movie[index[names[0]]] = 1.0\n",
    "#             matrix[i] = movie\n",
    "            \n",
    "#     return matrix"
   ]
  },
  {
   "cell_type": "code",
   "execution_count": 30,
   "id": "hairy-telephone",
   "metadata": {
    "jupyter": {
     "source_hidden": true
    }
   },
   "outputs": [],
   "source": [
    "# create_movie_director().shape"
   ]
  },
  {
   "cell_type": "code",
   "execution_count": 31,
   "id": "headed-sullivan",
   "metadata": {
    "jupyter": {
     "source_hidden": true
    }
   },
   "outputs": [],
   "source": [
    "# # creates a movie, director matrix of shape (7787,4049)\n",
    "# def create_movie_director():\n",
    "        \n",
    "#     unique_directors = [] #gets all unique director names\n",
    "#     for name in data['director'].unique():\n",
    "#         if pd.notna(name):\n",
    "#             unique_directors.append(name)\n",
    "\n",
    "#     index = {} # key: director name value: columns index.\n",
    "#     for i, name in enumerate(unique_directors):\n",
    "#         index[name] = i\n",
    "\n",
    "\n",
    "#     matrix = np.zeros((7787, 4049)) # (#movies, #uniquedirectors)\n",
    "\n",
    "#     for i , name in enumerate(data['director']):\n",
    "#         movie = np.zeros(len(unique_directors))\n",
    "#         if pd.isna(name):\n",
    "#             matrix[i] = movie \n",
    "#         else:\n",
    "#             movie[index[name]] = 1.0\n",
    "#             matrix[i] = movie\n",
    "            \n",
    "#     return matrix\n"
   ]
  }
 ],
 "metadata": {
  "kernelspec": {
   "display_name": "Python 3",
   "language": "python",
   "name": "python3"
  },
  "language_info": {
   "codemirror_mode": {
    "name": "ipython",
    "version": 3
   },
   "file_extension": ".py",
   "mimetype": "text/x-python",
   "name": "python",
   "nbconvert_exporter": "python",
   "pygments_lexer": "ipython3",
   "version": "3.9.12"
  }
 },
 "nbformat": 4,
 "nbformat_minor": 5
}
