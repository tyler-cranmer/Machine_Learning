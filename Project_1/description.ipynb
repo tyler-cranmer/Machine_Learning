{
 "cells": [
  {
   "cell_type": "markdown",
   "id": "lucky-copyright",
   "metadata": {},
   "source": [
    "# Default of Credit Card Clients Data Set"
   ]
  },
  {
   "cell_type": "markdown",
   "id": "daily-annual",
   "metadata": {},
   "source": [
    "## Data Set Information\n",
    "\n",
    "The data set consists of customers credit card information and payments over a 6 month period. This data is used to compare predictive accuracy of multiple machine learning algorithms aimed at predicting if customers would default on thier credit card payments."
   ]
  },
  {
   "cell_type": "markdown",
   "id": "every-boards",
   "metadata": {},
   "source": [
    "|  Abstract     | Description |\n",
    "| ----------- | ----------- |\n",
    "| Data Set Characteristics:      | Multivariate       \n",
    "| Number of Instances:      |  30000\n",
    "|  Number of Attributes: |       24\n",
    "| Associated Tasks:   | Classification   \n",
    "| Date Donated: | 2016-01-26"
   ]
  },
  {
   "cell_type": "markdown",
   "id": "primary-riding",
   "metadata": {},
   "source": [
    "### Attribute Information\n",
    "\n",
    "This research employed a binary variable, default payment (Yes = 1, No = 0), as the response variable. This study reviewed the literature and used the following 23 variables as explanatory variables:\n",
    "\n",
    "X1: Amount of the given credit (NT dollar): it includes both the individual consumer credit and his/her family (supplementary) credit.<br />\n",
    "X2: Gender (1 = male; 2 = female).<br />\n",
    "X3: Education (1 = graduate school; 2 = university; 3 = high school; 4 = others).<br />\n",
    "X4: Marital status (1 = married; 2 = single; 3 = others).<br />\n",
    "X5: Age (year).<br />\n",
    "X6 - X11: History of past payment. We tracked the past monthly payment records (from April to September, 2005) as follows: X6 = the repayment status in September, 2005; X7 = the repayment status in August, 2005; . . .;X11 = the repayment status in April, 2005. The measurement scale for the repayment status is: -1 = pay duly; 1 = payment delay for one month; 2 = payment delay for two months; . . .; 8 = payment delay for eight months; 9 = payment delay for nine months and above.<br />\n",
    "X12-X17: Amount of bill statement (NT dollar). X12 = amount of bill statement in September, 2005; X13 = amount of bill statement in August, 2005; . . .; X17 = amount of bill statement in April, 2005.<br />\n",
    "X18-X23: Amount of previous payment (NT dollar). X18 = amount paid in September, 2005; X19 = amount paid in August, 2005; . . .;X23 = amount paid in April, 2005."
   ]
  },
  {
   "cell_type": "markdown",
   "id": "educational-summary",
   "metadata": {},
   "source": [
    "### Citation\n",
    "\n",
    "https://archive.ics.uci.edu/ml/datasets/default+of+credit+card+clients"
   ]
  },
  {
   "cell_type": "code",
   "execution_count": null,
   "id": "neural-entrance",
   "metadata": {},
   "outputs": [],
   "source": []
  }
 ],
 "metadata": {
  "kernelspec": {
   "display_name": "Python 3",
   "language": "python",
   "name": "python3"
  },
  "language_info": {
   "codemirror_mode": {
    "name": "ipython",
    "version": 3
   },
   "file_extension": ".py",
   "mimetype": "text/x-python",
   "name": "python",
   "nbconvert_exporter": "python",
   "pygments_lexer": "ipython3",
   "version": "3.9.12"
  }
 },
 "nbformat": 4,
 "nbformat_minor": 5
}
