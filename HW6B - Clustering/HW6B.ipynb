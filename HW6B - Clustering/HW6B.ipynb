{
 "cells": [
  {
   "cell_type": "markdown",
   "id": "southeast-correlation",
   "metadata": {
    "deletable": false,
    "editable": false,
    "nbgrader": {
     "cell_type": "markdown",
     "checksum": "412c0fbff4d9e5401141ed5f953ba132",
     "grade": false,
     "grade_id": "cell-539bfe3db5c0f774",
     "locked": true,
     "schema_version": 3,
     "solution": false,
     "task": false
    }
   },
   "source": [
    "# Clustering RNA sequences to identify cancer types\n",
    "\n",
    "In this assignment, we will use clustering algorithms on RNA sequence data to identify cancer types.\n",
    "Since the [whole data](https://www.synapse.org/#!Synapse:syn4301332) (from [Cancer Genome Atlas Pan-Cancer project](https://www.ncbi.nlm.nih.gov/pmc/articles/PMC3919969/)) is very big, we will use a [subset data from UCI Machine Learning repository](https://archive.ics.uci.edu/ml/datasets/gene+expression+cancer+RNA-Seq#). The subset data contains only 5 labels; BRCA, KIRC, COAD, LUAD and PRAD. The meanings of those labels are as below.\n",
    "\n",
    "|Abbreviation|Cancer|\n",
    "|:----:|:-------:|\n",
    "|LUSC|Lung squamous cell carcinoma |\n",
    "|READ |Rectum adenocarcinoma |\n",
    "|GBM |Glioblastoma multiforme|\n",
    "|BLCA |Bladder Urothelial Carcinoma|\n",
    "|UCEC |Uterine Corpus Endometrioid Carcinoma|\n",
    "|COAD |Colon adenocarcinoma|\n",
    "|OV |Ovarian serous cystadenocarcinoma|\n",
    "|LAML |Acute Myeloid Leukemia|\n",
    "|HNSC |Head and Neck squamous cell carcinoma|\n",
    "|LUAD |Lung adenocarcinoma|\n",
    "|BRCA |Breast invasive carcinoma|\n",
    "|KIRC |Kidney renal clear cell carcinoma|\n",
    "\n",
    "Although we can use the data for supervised learning model training, we will not use these labels for training, but use them for evaluation."
   ]
  },
  {
   "cell_type": "code",
   "execution_count": 1,
   "id": "opening-bottom",
   "metadata": {
    "deletable": false,
    "editable": false,
    "nbgrader": {
     "cell_type": "code",
     "checksum": "deb30e3992bd6264bc0999a631f4f249",
     "grade": false,
     "grade_id": "cell-aae50706a878da7b",
     "locked": true,
     "schema_version": 3,
     "solution": false,
     "task": false
    }
   },
   "outputs": [],
   "source": [
    "import pandas as pd\n",
    "import matplotlib.pyplot as plt\n",
    "import numpy as np\n",
    "from sklearn.cluster import AgglomerativeClustering, KMeans\n",
    "from sklearn.metrics import accuracy_score, confusion_matrix\n",
    "import time"
   ]
  },
  {
   "cell_type": "code",
   "execution_count": 2,
   "id": "driven-offer",
   "metadata": {},
   "outputs": [],
   "source": [
    "from scipy.cluster.hierarchy import dendrogram\n",
    "from itertools import permutations"
   ]
  },
  {
   "cell_type": "code",
   "execution_count": 3,
   "id": "cutting-concentration",
   "metadata": {
    "deletable": false,
    "editable": false,
    "nbgrader": {
     "cell_type": "code",
     "checksum": "7d54524a953add3d7536b6f813e910b6",
     "grade": false,
     "grade_id": "cell-0349e5e5a7302cd2",
     "locked": true,
     "schema_version": 3,
     "solution": false,
     "task": false
    }
   },
   "outputs": [],
   "source": [
    "# Read data. Do not change the variable names (data, label)\n",
    "data = pd.read_csv('data/data.csv')\n",
    "label = pd.read_csv('data/labels.csv')\n",
    "data=data.drop('Unnamed: 0',axis=1)\n",
    "label=label.drop('Unnamed: 0',axis=1)"
   ]
  },
  {
   "cell_type": "markdown",
   "id": "public-twist",
   "metadata": {
    "deletable": false,
    "editable": false,
    "nbgrader": {
     "cell_type": "markdown",
     "checksum": "4ef29c8853bd413b47f39cb62c1d8405",
     "grade": false,
     "grade_id": "cell-a2791930798cf4eb",
     "locked": true,
     "schema_version": 3,
     "solution": false,
     "task": false
    }
   },
   "source": [
    "### A. Perform basic data inspection or EDA on the pandas dataframe.\n",
    "- How many observations?\n",
    "- How many features?\n",
    "- If we were to train a \"supervised\" learning model, how would you deal with such large feature dimension? \n",
    "- Even after feature dimension reduction, still the number of useful features may be enormous. How it would impact performance or runtime of certain supervised learning algorithms? Which algorithms would suffer from high dimension features than others and why? \n",
    "- How it would impact performance or runtime of an unsupervised learning algorithm?\n",
    "- Draw histograms of mean, max and min values in each feature. You may see numbers around 0-20. What those numbers mean? (We do not expect students to know or figure out the meanings, but if you do know by chance, feel free to discuss them with the class on the discussion board.)"
   ]
  },
  {
   "cell_type": "markdown",
   "id": "distinct-commitment",
   "metadata": {},
   "source": [
    "- How many observations?\n",
    "    - 801\n",
    "- How many features?\n",
    "    - 20531\n",
    "- If we were to train a \"supervised\" learning model, how would you deal with such large feature dimension? \n",
    "    - we can use PCA to reduce the dimensionalty of the dataset. \n",
    "    - random feature selection with Random Forests calssificiation\n",
    "    - remove highly correlated features\n",
    "    - Forward feature selection\n",
    "- Even after feature dimension reduction, still the number of useful features may be enormous. How it would impact performance or runtime of certain supervised learning algorithms? Which algorithms would suffer from high dimension features than others and why? \n",
    "    - KNN. Uses distance formulas to determine classifications. With to many features, \n",
    "    - SVM - uses a distance formulas to help determine \n",
    "    - Linear Regression\n",
    "    \n",
    "- How it would impact performance or runtime of an unsupervised learning algorithm?\n",
    "     - The more dimensions the data has, the longer it will take for certain clustering algorithms to converge. \n",
    "- Draw histograms of mean, max and min values in each feature. You may see numbers around 0-20. What those numbers mean? (We do not expect students to know or figure out the meanings, but if you do know by chance, feel free to discuss them with the class on the discussion board.)\n",
    "    - "
   ]
  },
  {
   "cell_type": "code",
   "execution_count": 4,
   "id": "distributed-consultation",
   "metadata": {},
   "outputs": [
    {
     "data": {
      "text/plain": [
       "array(['PRAD', 'LUAD', 'BRCA', 'KIRC', 'COAD'], dtype=object)"
      ]
     },
     "execution_count": 4,
     "metadata": {},
     "output_type": "execute_result"
    }
   ],
   "source": [
    "label['Class'].unique()"
   ]
  },
  {
   "cell_type": "code",
   "execution_count": 5,
   "id": "oriented-visiting",
   "metadata": {},
   "outputs": [
    {
     "data": {
      "text/html": [
       "<div>\n",
       "<style scoped>\n",
       "    .dataframe tbody tr th:only-of-type {\n",
       "        vertical-align: middle;\n",
       "    }\n",
       "\n",
       "    .dataframe tbody tr th {\n",
       "        vertical-align: top;\n",
       "    }\n",
       "\n",
       "    .dataframe thead th {\n",
       "        text-align: right;\n",
       "    }\n",
       "</style>\n",
       "<table border=\"1\" class=\"dataframe\">\n",
       "  <thead>\n",
       "    <tr style=\"text-align: right;\">\n",
       "      <th></th>\n",
       "      <th>Class</th>\n",
       "    </tr>\n",
       "  </thead>\n",
       "  <tbody>\n",
       "    <tr>\n",
       "      <th>0</th>\n",
       "      <td>PRAD</td>\n",
       "    </tr>\n",
       "    <tr>\n",
       "      <th>1</th>\n",
       "      <td>LUAD</td>\n",
       "    </tr>\n",
       "    <tr>\n",
       "      <th>2</th>\n",
       "      <td>PRAD</td>\n",
       "    </tr>\n",
       "    <tr>\n",
       "      <th>3</th>\n",
       "      <td>PRAD</td>\n",
       "    </tr>\n",
       "    <tr>\n",
       "      <th>4</th>\n",
       "      <td>BRCA</td>\n",
       "    </tr>\n",
       "  </tbody>\n",
       "</table>\n",
       "</div>"
      ],
      "text/plain": [
       "  Class\n",
       "0  PRAD\n",
       "1  LUAD\n",
       "2  PRAD\n",
       "3  PRAD\n",
       "4  BRCA"
      ]
     },
     "execution_count": 5,
     "metadata": {},
     "output_type": "execute_result"
    }
   ],
   "source": [
    "label.head()"
   ]
  },
  {
   "cell_type": "code",
   "execution_count": 6,
   "id": "facial-ozone",
   "metadata": {},
   "outputs": [
    {
     "data": {
      "image/png": "[encoded data removed]",
      "text/plain": [
       "<Figure size 432x288 with 1 Axes>"
      ]
     },
     "metadata": {
      "needs_background": "light"
     },
     "output_type": "display_data"
    },
    {
     "data": {
      "image/png": "[encoded data removed]",
      "text/plain": [
       "<Figure size 432x288 with 1 Axes>"
      ]
     },
     "metadata": {
      "needs_background": "light"
     },
     "output_type": "display_data"
    },
    {
     "data": {
      "image/png": "[encoded data removed]",
      "text/plain": [
       "<Figure size 432x288 with 1 Axes>"
      ]
     },
     "metadata": {
      "needs_background": "light"
     },
     "output_type": "display_data"
    }
   ],
   "source": [
    "plt.hist(data.mean())\n",
    "plt.title('MEAN')\n",
    "plt.show()\n",
    "plt.title('MAX')\n",
    "plt.hist(data.max())\n",
    "plt.show()\n",
    "plt.title('MIN')\n",
    "plt.hist(data.min())\n",
    "plt.show()"
   ]
  },
  {
   "cell_type": "code",
   "execution_count": 7,
   "id": "close-saint",
   "metadata": {},
   "outputs": [
    {
     "data": {
      "text/plain": [
       "gene_0        0.000000\n",
       "gene_1        0.000000\n",
       "gene_2        0.000000\n",
       "gene_3        5.009284\n",
       "gene_4        8.435999\n",
       "                ...   \n",
       "gene_20526    9.045255\n",
       "gene_20527    7.530141\n",
       "gene_20528    7.864533\n",
       "gene_20529    0.593975\n",
       "gene_20530    0.000000\n",
       "Length: 20531, dtype: float64"
      ]
     },
     "execution_count": 7,
     "metadata": {},
     "output_type": "execute_result"
    }
   ],
   "source": [
    "data.min()"
   ]
  },
  {
   "cell_type": "code",
   "execution_count": 8,
   "id": "metallic-thumbnail",
   "metadata": {
    "deletable": false,
    "nbgrader": {
     "cell_type": "code",
     "checksum": "bacf960f7ea86b11bcd443446a6c860c",
     "grade": true,
     "grade_id": "cell-849bea6119ed7609",
     "locked": false,
     "points": 15,
     "schema_version": 3,
     "solution": true,
     "task": false
    }
   },
   "outputs": [
    {
     "name": "stdout",
     "output_type": "stream",
     "text": [
      "   gene_0    gene_1    gene_2    gene_3     gene_4  gene_5    gene_6  \\\n",
      "0     0.0  2.017209  3.265527  5.478487  10.431999     0.0  7.175175   \n",
      "1     0.0  0.592732  1.588421  7.586157   9.623011     0.0  6.816049   \n",
      "2     0.0  3.511759  4.327199  6.881787   9.870730     0.0  6.972130   \n",
      "3     0.0  3.663618  4.507649  6.659068  10.196184     0.0  7.843375   \n",
      "4     0.0  2.655741  2.821547  6.539454   9.738265     0.0  6.566967   \n",
      "\n",
      "     gene_7  gene_8  gene_9  ...  gene_20521  gene_20522  gene_20523  \\\n",
      "0  0.591871     0.0     0.0  ...    4.926711    8.210257    9.723516   \n",
      "1  0.000000     0.0     0.0  ...    4.593372    7.323865    9.740931   \n",
      "2  0.452595     0.0     0.0  ...    5.125213    8.127123   10.908640   \n",
      "3  0.434882     0.0     0.0  ...    6.076566    8.792959   10.141520   \n",
      "4  0.360982     0.0     0.0  ...    5.996032    8.891425   10.373790   \n",
      "\n",
      "   gene_20524  gene_20525  gene_20526  gene_20527  gene_20528  gene_20529  \\\n",
      "0    7.220030    9.119813   12.003135    9.650743    8.921326    5.286759   \n",
      "1    6.256586    8.381612   12.674552   10.517059    9.397854    2.094168   \n",
      "2    5.401607    9.911597    9.045255    9.788359   10.090470    1.683023   \n",
      "3    8.942805    9.601208   11.392682    9.694814    9.684365    3.292001   \n",
      "4    7.181162    9.846910   11.922439    9.217749    9.461191    5.110372   \n",
      "\n",
      "   gene_20530  \n",
      "0         0.0  \n",
      "1         0.0  \n",
      "2         0.0  \n",
      "3         0.0  \n",
      "4         0.0  \n",
      "\n",
      "[5 rows x 20531 columns]\n",
      "(801, 20531)\n",
      "    Class\n",
      "0    PRAD\n",
      "1    LUAD\n",
      "2    PRAD\n",
      "3    PRAD\n",
      "4    BRCA\n",
      "..    ...\n",
      "796  BRCA\n",
      "797  LUAD\n",
      "798  COAD\n",
      "799  PRAD\n",
      "800  PRAD\n",
      "\n",
      "[801 rows x 1 columns]\n",
      "(801, 1)\n"
     ]
    }
   ],
   "source": [
    "print(data.head())\n",
    "print(data.shape)\n",
    "print(label)\n",
    "print(label.shape)"
   ]
  },
  {
   "cell_type": "markdown",
   "id": "elegant-fashion",
   "metadata": {
    "deletable": false,
    "editable": false,
    "nbgrader": {
     "cell_type": "markdown",
     "checksum": "1a163e45debc3e34bb4c49db0191da7f",
     "grade": false,
     "grade_id": "cell-beed8ed5fc8d2e64",
     "locked": true,
     "schema_version": 3,
     "solution": false,
     "task": false
    }
   },
   "source": [
    "### B. Build a hierarchical clustering model \n",
    "Let's build a model using hierarchical clustering. Hierarchical clustering module is available from  `sklearn.cluster.AgglomerativeClustering`. You can choose linkage type and metric. Please check its documentation for more details.\n",
    "\n",
    "#### a) Number of clusters vs distance threshold\n",
    "Ofterntimes hierarchical clustering does not need to know the number of clusters in advance. Instead, one needs to choose threshold distance/similarity to cut the dendrogram later.  The `AgglomerativeClustering` module lets you specify either the number of clusters (`n_clusters`) or the threshold (`distance_threshold`). Based on our data, which should we choose to set to which value and why?"
   ]
  },
  {
   "cell_type": "raw",
   "id": "ranging-point",
   "metadata": {
    "deletable": false,
    "nbgrader": {
     "cell_type": "code",
     "checksum": "b5013ea64a9d59ea360e10a1258fed12",
     "grade": true,
     "grade_id": "cell-70056c122f962c97",
     "locked": false,
     "points": 5,
     "schema_version": 3,
     "solution": true,
     "task": false
    }
   },
   "source": [
    "For this data, we would want to set n_clusters to 5 since we know that we are only using 5 labels. "
   ]
  },
  {
   "cell_type": "markdown",
   "id": "plain-being",
   "metadata": {
    "deletable": false,
    "editable": false,
    "nbgrader": {
     "cell_type": "markdown",
     "checksum": "56f7c1c6b44af90252e56acb948198b1",
     "grade": false,
     "grade_id": "cell-50370db254c0a9d5",
     "locked": true,
     "schema_version": 3,
     "solution": false,
     "task": false
    }
   },
   "source": [
    "#### b) Guess which metric?\n",
    "Can you guess which metric to use (distance-based vs. similarity-based) and why? Share your thoughts with the class."
   ]
  },
  {
   "cell_type": "raw",
   "id": "rising-posting",
   "metadata": {
    "deletable": false,
    "nbgrader": {
     "cell_type": "code",
     "checksum": "f9e9e28c5e5a86ec5c05a14308e737f6",
     "grade": true,
     "grade_id": "cell-292c158383d41c75",
     "locked": false,
     "points": 0,
     "schema_version": 3,
     "solution": true,
     "task": false
    }
   },
   "source": [
    "If I had more domain knowledge, using a similarity-based metric would be better. Since I do not, setting a distance metric will produced a better prediction becuase we can loop through the different distance metrics and compare the accuracy."
   ]
  },
  {
   "cell_type": "markdown",
   "id": "particular-madagascar",
   "metadata": {
    "deletable": false,
    "editable": false,
    "nbgrader": {
     "cell_type": "markdown",
     "checksum": "24bbd98211c302b84afcef87f05ca425",
     "grade": false,
     "grade_id": "cell-89f6f15a99461906",
     "locked": true,
     "schema_version": 3,
     "solution": false,
     "task": false
    }
   },
   "source": [
    "#### c) Build a model\n",
    "Build a model using n_clusters=5 option. Choose any metric and linkage type at first. Display the clustering result labels (you can just print out the result). Do not change the variable (model) name."
   ]
  },
  {
   "cell_type": "code",
   "execution_count": 9,
   "id": "sunset-greece",
   "metadata": {
    "deletable": false,
    "nbgrader": {
     "cell_type": "code",
     "checksum": "bbb74e59d0858a36331b39b25fcdf3ad",
     "grade": true,
     "grade_id": "cell-2ced6bf493d15d10",
     "locked": false,
     "points": 5,
     "schema_version": 3,
     "solution": true,
     "task": false
    }
   },
   "outputs": [
    {
     "data": {
      "text/html": [
       "<style>#sk-container-id-1 {color: black;background-color: white;}#sk-container-id-1 pre{padding: 0;}#sk-container-id-1 div.sk-toggleable {background-color: white;}#sk-container-id-1 label.sk-toggleable__label {cursor: pointer;display: block;width: 100%;margin-bottom: 0;padding: 0.3em;box-sizing: border-box;text-align: center;}#sk-container-id-1 label.sk-toggleable__label-arrow:before {content: \"▸\";float: left;margin-right: 0.25em;color: #696969;}#sk-container-id-1 label.sk-toggleable__label-arrow:hover:before {color: black;}#sk-container-id-1 div.sk-estimator:hover label.sk-toggleable__label-arrow:before {color: black;}#sk-container-id-1 div.sk-toggleable__content {max-height: 0;max-width: 0;overflow: hidden;text-align: left;background-color: #f0f8ff;}#sk-container-id-1 div.sk-toggleable__content pre {margin: 0.2em;color: black;border-radius: 0.25em;background-color: #f0f8ff;}#sk-container-id-1 input.sk-toggleable__control:checked~div.sk-toggleable__content {max-height: 200px;max-width: 100%;overflow: auto;}#sk-container-id-1 input.sk-toggleable__control:checked~label.sk-toggleable__label-arrow:before {content: \"▾\";}#sk-container-id-1 div.sk-estimator input.sk-toggleable__control:checked~label.sk-toggleable__label {background-color: #d4ebff;}#sk-container-id-1 div.sk-label input.sk-toggleable__control:checked~label.sk-toggleable__label {background-color: #d4ebff;}#sk-container-id-1 input.sk-hidden--visually {border: 0;clip: rect(1px 1px 1px 1px);clip: rect(1px, 1px, 1px, 1px);height: 1px;margin: -1px;overflow: hidden;padding: 0;position: absolute;width: 1px;}#sk-container-id-1 div.sk-estimator {font-family: monospace;background-color: #f0f8ff;border: 1px dotted black;border-radius: 0.25em;box-sizing: border-box;margin-bottom: 0.5em;}#sk-container-id-1 div.sk-estimator:hover {background-color: #d4ebff;}#sk-container-id-1 div.sk-parallel-item::after {content: \"\";width: 100%;border-bottom: 1px solid gray;flex-grow: 1;}#sk-container-id-1 div.sk-label:hover label.sk-toggleable__label {background-color: #d4ebff;}#sk-container-id-1 div.sk-serial::before {content: \"\";position: absolute;border-left: 1px solid gray;box-sizing: border-box;top: 0;bottom: 0;left: 50%;z-index: 0;}#sk-container-id-1 div.sk-serial {display: flex;flex-direction: column;align-items: center;background-color: white;padding-right: 0.2em;padding-left: 0.2em;position: relative;}#sk-container-id-1 div.sk-item {position: relative;z-index: 1;}#sk-container-id-1 div.sk-parallel {display: flex;align-items: stretch;justify-content: center;background-color: white;position: relative;}#sk-container-id-1 div.sk-item::before, #sk-container-id-1 div.sk-parallel-item::before {content: \"\";position: absolute;border-left: 1px solid gray;box-sizing: border-box;top: 0;bottom: 0;left: 50%;z-index: -1;}#sk-container-id-1 div.sk-parallel-item {display: flex;flex-direction: column;z-index: 1;position: relative;background-color: white;}#sk-container-id-1 div.sk-parallel-item:first-child::after {align-self: flex-end;width: 50%;}#sk-container-id-1 div.sk-parallel-item:last-child::after {align-self: flex-start;width: 50%;}#sk-container-id-1 div.sk-parallel-item:only-child::after {width: 0;}#sk-container-id-1 div.sk-dashed-wrapped {border: 1px dashed gray;margin: 0 0.4em 0.5em 0.4em;box-sizing: border-box;padding-bottom: 0.4em;background-color: white;}#sk-container-id-1 div.sk-label label {font-family: monospace;font-weight: bold;display: inline-block;line-height: 1.2em;}#sk-container-id-1 div.sk-label-container {text-align: center;}#sk-container-id-1 div.sk-container {/* jupyter's `normalize.less` sets `[hidden] { display: none; }` but bootstrap.min.css set `[hidden] { display: none !important; }` so we also need the `!important` here to be able to override the default hidden behavior on the sphinx rendered scikit-learn.org. See: https://github.com/scikit-learn/scikit-learn/issues/21755 */display: inline-block !important;position: relative;}#sk-container-id-1 div.sk-text-repr-fallback {display: none;}</style><div id=\"sk-container-id-1\" class=\"sk-top-container\"><div class=\"sk-text-repr-fallback\"><pre>AgglomerativeClustering(linkage=&#x27;complete&#x27;, n_clusters=5)</pre><b>In a Jupyter environment, please rerun this cell to show the HTML representation or trust the notebook. <br />On GitHub, the HTML representation is unable to render, please try loading this page with nbviewer.org.</b></div><div class=\"sk-container\" hidden><div class=\"sk-item\"><div class=\"sk-estimator sk-toggleable\"><input class=\"sk-toggleable__control sk-hidden--visually\" id=\"sk-estimator-id-1\" type=\"checkbox\" checked><label for=\"sk-estimator-id-1\" class=\"sk-toggleable__label sk-toggleable__label-arrow\">AgglomerativeClustering</label><div class=\"sk-toggleable__content\"><pre>AgglomerativeClustering(linkage=&#x27;complete&#x27;, n_clusters=5)</pre></div></div></div></div></div>"
      ],
      "text/plain": [
       "AgglomerativeClustering(linkage='complete', n_clusters=5)"
      ]
     },
     "execution_count": 9,
     "metadata": {},
     "output_type": "execute_result"
    }
   ],
   "source": [
    "model= AgglomerativeClustering(n_clusters=5, linkage='complete')\n",
    "model.fit(data)\n"
   ]
  },
  {
   "cell_type": "code",
   "execution_count": 10,
   "id": "placed-trader",
   "metadata": {},
   "outputs": [
    {
     "name": "stdout",
     "output_type": "stream",
     "text": [
      "[4 3 1 4 1 4 0 4 1 4 1 0 4 2 1 1 3 0 0 4 1 0 3 1 0 3 2 1 1 1 1 1 0 3 4 1 0\n",
      " 3 1 3 0 4 4 0 0 1 4 2 1 3 1 3 1 4 2 1 1 3 0 1 3 0 1 3 4 2 1 4 0 1 0 1 1 3\n",
      " 1 3 1 0 4 2 1 4 1 1 4 4 1 1 0 1 4 4 1 3 1 4 2 1 4 1 1 0 1 0 3 0 3 3 3 3 4\n",
      " 1 3 4 1 0 0 0 1 1 3 0 3 1 4 4 4 1 0 1 2 1 2 1 1 0 3 1 0 2 1 4 1 0 3 2 4 1\n",
      " 3 3 3 3 1 1 3 1 1 4 4 3 4 3 0 1 4 3 2 0 3 1 0 3 1 3 1 1 1 4 1 0 2 0 1 4 4\n",
      " 4 3 3 1 3 3 0 3 4 3 1 3 1 3 3 1 0 0 0 0 4 2 4 1 3 3 1 4 1 4 1 1 1 3 1 0 3\n",
      " 0 0 3 1 0 4 1 3 3 4 2 2 0 4 0 3 1 0 0 3 4 4 3 3 0 1 1 2 1 4 3 1 4 0 4 4 4\n",
      " 1 3 2 3 2 3 4 3 1 1 0 0 1 2 4 0 4 1 1 0 1 1 1 2 3 3 1 1 1 0 0 0 0 3 1 1 0\n",
      " 1 1 3 4 1 1 2 3 4 1 1 1 2 1 4 1 2 3 3 4 0 1 0 0 3 3 0 1 1 1 3 0 1 1 4 3 0\n",
      " 1 3 4 0 1 4 2 1 1 1 3 3 3 1 1 4 3 1 0 1 2 3 3 1 0 1 1 1 2 3 2 0 4 0 1 1 0\n",
      " 3 2 4 3 4 3 0 4 1 2 0 0 2 2 4 1 3 3 0 3 4 1 1 1 3 3 0 3 3 0 2 4 1 3 4 1 2\n",
      " 1 3 1 1 4 1 4 2 1 3 1 1 3 1 1 1 0 3 4 1 4 0 1 0 2 1 4 3 0 1 1 0 1 3 3 1 4\n",
      " 2 1 0 3 4 1 4 1 1 1 1 0 3 1 0 1 1 3 3 0 3 4 2 1 0 0 1 4 0 3 3 3 1 4 4 1 4\n",
      " 3 0 4 1 3 4 3 1 1 2 3 0 2 3 1 4 1 1 4 1 2 1 2 0 1 1 3 3 3 3 0 3 3 1 1 0 4\n",
      " 3 4 1 0 1 0 0 4 4 3 1 0 2 2 1 0 0 1 1 4 0 3 1 1 2 3 1 1 1 0 4 3 3 1 0 2 0\n",
      " 0 1 4 3 0 1 2 3 3 3 4 3 0 1 1 2 4 3 1 1 0 3 3 1 4 3 3 1 0 4 2 3 4 2 3 2 0\n",
      " 0 1 1 0 0 3 1 1 4 4 0 1 3 3 1 2 1 4 4 3 1 2 1 0 1 1 3 1 4 1 1 0 4 3 1 1 0\n",
      " 3 1 1 1 2 2 3 3 3 1 1 4 1 1 0 3 3 0 0 3 0 2 1 2 0 1 1 4 4 4 3 4 4 2 1 1 3\n",
      " 3 0 1 0 2 1 1 1 4 3 0 1 4 0 4 1 3 0 4 3 4 4 2 0 4 3 2 3 1 1 1 3 0 0 0 1 3\n",
      " 0 4 1 3 4 1 4 1 0 1 3 4 4 0 4 0 1 3 3 1 3 0 1 1 1 1 0 0 4 3 0 3 3 0 1 3 1\n",
      " 1 4 3 4 1 2 1 1 0 3 1 1 4 1 4 3 1 1 1 3 1 3 1 3 0 0 3 3 1 1 1 3 1 3 0 1 3\n",
      " 0 3 3 3 0 1 4 1 1 0 1 4 0 1 1 1 1 4 3 1 3 3 4 4]\n"
     ]
    }
   ],
   "source": [
    "y_pred = model.labels_\n",
    "print(y_pred)"
   ]
  },
  {
   "cell_type": "markdown",
   "id": "positive-location",
   "metadata": {
    "deletable": false,
    "editable": false,
    "nbgrader": {
     "cell_type": "markdown",
     "checksum": "c59fefe24b3d6460cb76833e0d3b80a7",
     "grade": false,
     "grade_id": "cell-f1337843b202bc8d",
     "locked": true,
     "schema_version": 3,
     "solution": false,
     "task": false
    }
   },
   "source": [
    "#### d) Label permuation\n",
    "In clustering, the labels get assigned randomly, so the label numbering won't match the ground truth necessarily. Write a function below to find best matching label ordering based on the accuracy. Do not change the variable names."
   ]
  },
  {
   "cell_type": "code",
   "execution_count": 11,
   "id": "special-canada",
   "metadata": {
    "deletable": false,
    "nbgrader": {
     "cell_type": "code",
     "checksum": "ca6f37443fbda33616176080c3f2bde9",
     "grade": true,
     "grade_id": "cell-a4893d1f69efe80d",
     "locked": false,
     "points": 10,
     "schema_version": 3,
     "solution": true,
     "task": false
    }
   },
   "outputs": [],
   "source": [
    "import itertools\n",
    "\n",
    "def label_permute_compare(ytdf,yp,n=5):\n",
    "    \"\"\"\n",
    "    ytdf: labels dataframe object\n",
    "    yp: clustering label prediction output\n",
    "    Returns permuted label order and accuracy. \n",
    "    Example output: (3(KIRK), 4(COAD), 1(LAUD), 2(BRCA), 0(PRAD)), 0.74 \n",
    "    \"\"\"\n",
    "    yt = np.array(ytdf)\n",
    "    yt =yt.flatten()\n",
    "\n",
    "    l = ['PRAD', 'LUAD', 'BRCA', 'KIRC', 'COAD']\n",
    "    p = permutations(l)\n",
    "    temp = np.zeros(shape=801, dtype='U256')\n",
    "    best_accuracy = 0\n",
    "    best_perm = []\n",
    "    for shuffled_list in list(p):\n",
    "        x = list(shuffled_list)\n",
    "        x = list(zip(range(len(x)),x))\n",
    "        for i in range(len(yp)):\n",
    "            if yp[i] == x[0][0]:\n",
    "                temp[i] = x[0][1]\n",
    "            elif yp[i] == x[1][0]:\n",
    "                temp[i] = x[1][1]\n",
    "            elif yp[i] == x[2][0]:\n",
    "                temp[i] = x[2][1]\n",
    "            elif yp[i] == x[3][0]:\n",
    "                temp[i] = x[3][1]\n",
    "            elif yp[i] == x[4][0]:\n",
    "                temp[i] = x[4][1]\n",
    "        curr_acc = accuracy_score(yt,temp)\n",
    "        if curr_acc >= best_accuracy:\n",
    "            best_accuracy = curr_acc\n",
    "            best_perm = x\n",
    "    \n",
    "    return(best_perm,best_accuracy)"
   ]
  },
  {
   "cell_type": "code",
   "execution_count": 21,
   "id": "changed-pilot",
   "metadata": {},
   "outputs": [],
   "source": [
    "l = ['PRAD', 'LUAD', 'BRCA', 'KIRC', 'COAD']\n",
    "p = permutations(l)\n",
    "temp = np.zeros(shape=801, dtype='U256')\n",
    "for shuffled_list in list(p):\n",
    "    x = list(shuffled_list)\n",
    "    x = list(zip(range(len(x)),x))\n",
    "#     print(x)"
   ]
  },
  {
   "cell_type": "code",
   "execution_count": 13,
   "id": "supreme-shakespeare",
   "metadata": {
    "deletable": false,
    "editable": false,
    "nbgrader": {
     "cell_type": "code",
     "checksum": "9caa5be20c8b0088db308050abf4d44a",
     "grade": false,
     "grade_id": "cell-c20eb208412ef9c1",
     "locked": true,
     "schema_version": 3,
     "solution": false,
     "task": false
    }
   },
   "outputs": [
    {
     "name": "stdout",
     "output_type": "stream",
     "text": [
      "[(0, 'KIRC'), (1, 'BRCA'), (2, 'COAD'), (3, 'LUAD'), (4, 'PRAD')] 0.9313358302122348\n"
     ]
    }
   ],
   "source": [
    "labelorder, acc = label_permute_compare(label, model.labels_)\n",
    "print(labelorder, acc)"
   ]
  },
  {
   "cell_type": "markdown",
   "id": "smooth-lover",
   "metadata": {},
   "source": [
    "#### e) Check confusion matrix\n",
    "Use sklearn's confusion matrix and display the results. "
   ]
  },
  {
   "cell_type": "code",
   "execution_count": 14,
   "id": "elegant-tribune",
   "metadata": {
    "deletable": false,
    "nbgrader": {
     "cell_type": "code",
     "checksum": "06e89292700ad7c9bc5d228026d3f78f",
     "grade": true,
     "grade_id": "cell-00e0a107c6b6f149",
     "locked": false,
     "points": 5,
     "schema_version": 3,
     "solution": true,
     "task": false
    }
   },
   "outputs": [],
   "source": [
    "def true_yp(model_lables, labelorder):\n",
    "    yp = np.zeros(shape=801, dtype='U256')\n",
    "    for i in range(len(model_lables)):\n",
    "        if model_lables[i] == 0:\n",
    "            yp[i] = labelorder[0][1]\n",
    "        elif model_lables[i] == 1:\n",
    "            yp[i] = labelorder[1][1]\n",
    "        elif model_lables[i] == 2:\n",
    "            yp[i] = labelorder[2][1]\n",
    "        elif model_lables[i] == 3:\n",
    "            yp[i] = labelorder[3][1]\n",
    "        elif model_lables[i] == 4:\n",
    "            yp[i] = labelorder[4][1]\n",
    "    return yp\n"
   ]
  },
  {
   "cell_type": "code",
   "execution_count": 15,
   "id": "novel-statistics",
   "metadata": {},
   "outputs": [
    {
     "name": "stdout",
     "output_type": "stream",
     "text": [
      "[[271   7   0  22   0]\n",
      " [  0  55   0  23   0]\n",
      " [  0   0 146   0   0]\n",
      " [  2   0   0 139   0]\n",
      " [  1   0   0   0 135]]\n",
      "0.9313358302122348\n"
     ]
    }
   ],
   "source": [
    "labelorder, acc = label_permute_compare(label, model.labels_)\n",
    "yp = true_yp(model.labels_, labelorder)\n",
    "print(confusion_matrix(label, yp))\n",
    "print(accuracy_score(label, yp))"
   ]
  },
  {
   "cell_type": "markdown",
   "id": "prepared-temple",
   "metadata": {
    "deletable": false,
    "editable": false,
    "nbgrader": {
     "cell_type": "markdown",
     "checksum": "2518e56ca1c5211d325d669138bc989d",
     "grade": false,
     "grade_id": "cell-d9659ebe08a907e7",
     "locked": true,
     "schema_version": 3,
     "solution": false,
     "task": false
    }
   },
   "source": [
    "#### f) Change linkage method and distance metric. Which ones lead the best performance? Print out the accuracy and confusion matrix for the best model."
   ]
  },
  {
   "cell_type": "code",
   "execution_count": 16,
   "id": "compatible-commonwealth",
   "metadata": {
    "deletable": false,
    "nbgrader": {
     "cell_type": "code",
     "checksum": "ca45896299daba09a04db43955c5ad9d",
     "grade": true,
     "grade_id": "cell-cff24ed2e17d935b",
     "locked": false,
     "points": 10,
     "schema_version": 3,
     "solution": true,
     "task": false
    }
   },
   "outputs": [],
   "source": [
    "def best_performance(label):\n",
    "    linkage = ['complete', 'average', 'single']\n",
    "    distance = ['euclidean', 'l1', 'l2', 'manhattan', 'cosine']\n",
    "\n",
    "    perm = list(itertools.product(linkage,distance))\n",
    "    perm.append(('ward', 'euclidean'))\n",
    "\n",
    "    best_link = ''\n",
    "    best_distance = ''\n",
    "    best_label = []\n",
    "    best_acc = 0\n",
    "    best_cm = 0\n",
    "\n",
    "    for p in perm:\n",
    "        model2= AgglomerativeClustering(n_clusters=5, linkage=p[0], affinity=p[1])\n",
    "        model2.fit(data)\n",
    "        labelorder, acc = label_permute_compare(label, model2.labels_)\n",
    "        curr_link = p[0]\n",
    "        curr_distance = p[1]\n",
    "        curr_labelorder = labelorder\n",
    "        yp = true_yp(model2.labels_, labelorder)\n",
    "        cm = confusion_matrix(label, yp)\n",
    "        acc = accuracy_score(label, yp)\n",
    "        if acc >= best_acc:\n",
    "            best_link = curr_link\n",
    "            best_distance = curr_distance\n",
    "            best_label = curr_labelorder\n",
    "            best_acc = acc\n",
    "            best_cm = cm\n",
    "\n",
    "    print(f'Best Linkage Method: {best_link}')\n",
    "    print(f'Best Distance Metric: {best_distance}')\n",
    "    print(f'Label Order: {best_label}')\n",
    "    print(f'Accuracy: {best_acc}')\n",
    "    print(best_cm)"
   ]
  },
  {
   "cell_type": "code",
   "execution_count": 17,
   "id": "ready-result",
   "metadata": {},
   "outputs": [
    {
     "name": "stdout",
     "output_type": "stream",
     "text": [
      "Best Linkage Method: ward\n",
      "Best Distance Metric: euclidean\n",
      "Label Order: [(0, 'BRCA'), (1, 'KIRC'), (2, 'PRAD'), (3, 'LUAD'), (4, 'COAD')]\n",
      "Accuracy: 0.9950062421972534\n",
      "[[299   0   0   1   0]\n",
      " [  0  77   0   1   0]\n",
      " [  0   0 146   0   0]\n",
      " [  2   0   0 139   0]\n",
      " [  0   0   0   0 136]]\n"
     ]
    }
   ],
   "source": [
    "best_performance(label)"
   ]
  },
  {
   "cell_type": "markdown",
   "id": "south-beast",
   "metadata": {
    "deletable": false,
    "editable": false,
    "nbgrader": {
     "cell_type": "markdown",
     "checksum": "bde67fd1f58e1a7674f0ee4af3e8854b",
     "grade": false,
     "grade_id": "cell-0baa2a94e0febce7",
     "locked": true,
     "schema_version": 3,
     "solution": false,
     "task": false
    }
   },
   "source": [
    "### C. What about k-means clustering?\n",
    "Can we apply kmeans clustering on this data? Which clustering methods give a better performance? Is kmeans faster or slower?"
   ]
  },
  {
   "cell_type": "markdown",
   "id": "annual-cherry",
   "metadata": {},
   "source": [
    "Yes we can use kmeans clustering on this dataset. So from the documentation, there is only two algorithms to be used lloyed and elkan. It looks like both algorithms produce the same score. K_means clustering was much faster at predicting the labels and i think that has to do with the init parameter k-means++, which will help converge the centroids faster."
   ]
  },
  {
   "cell_type": "code",
   "execution_count": 18,
   "id": "catholic-causing",
   "metadata": {
    "deletable": false,
    "nbgrader": {
     "cell_type": "code",
     "checksum": "1cc7646ab25665f3705d03cf2c418deb",
     "grade": true,
     "grade_id": "cell-c84252f264431f74",
     "locked": false,
     "points": 10,
     "schema_version": 3,
     "solution": true,
     "task": false
    }
   },
   "outputs": [],
   "source": [
    "from sklearn.cluster import KMeans\n",
    "\n",
    "def k_cluster(label):\n",
    "    algorithm = ['lloyd','elkan']\n",
    "    best_labels = []\n",
    "    best_algo = ''\n",
    "    best_acc = 0\n",
    "    best_cm = 0\n",
    "    for algo in algorithm:\n",
    "        kmeans = KMeans(n_clusters=5, random_state=0, init='k-means++', algorithm= algo).fit(data)\n",
    "        y_pred = kmeans.predict(data)\n",
    "        labelorder, acc = label_permute_compare(label, y_pred)\n",
    "        t_yp = true_yp(y_pred, labelorder)\n",
    "        cm = confusion_matrix(label, t_yp)\n",
    "        acc = accuracy_score(label, t_yp)\n",
    "        if acc >= best_acc:\n",
    "            best_acc = acc\n",
    "            best_algo = algo\n",
    "            best_cm = cm\n",
    "            best_labels = labelorder\n",
    "    print(f'Best Algorithm: {best_algo}')\n",
    "    print(f'Best Accuracy: {best_acc}')\n",
    "    print(f'Labels: {best_labels}')\n",
    "    print(best_cm)"
   ]
  },
  {
   "cell_type": "code",
   "execution_count": 19,
   "id": "metallic-duration",
   "metadata": {},
   "outputs": [
    {
     "name": "stdout",
     "output_type": "stream",
     "text": [
      "Best Algorithm: elkan\n",
      "Best Accuracy: 0.9937578027465668\n",
      "Labels: [(0, 'PRAD'), (1, 'LUAD'), (2, 'BRCA'), (3, 'KIRC'), (4, 'COAD')]\n",
      "[[300   0   0   0   0]\n",
      " [  0  76   0   2   0]\n",
      " [  1   0 145   0   0]\n",
      " [  2   0   0 139   0]\n",
      " [  0   0   0   0 136]]\n"
     ]
    }
   ],
   "source": [
    "k_cluster(label)"
   ]
  },
  {
   "cell_type": "code",
   "execution_count": 20,
   "id": "hindu-japan",
   "metadata": {},
   "outputs": [
    {
     "name": "stdout",
     "output_type": "stream",
     "text": [
      "[0.   0.   0.   2.25 1.92 0.  ]\n"
     ]
    }
   ],
   "source": [
    "c = np.array([0.0,0.33,1.0,0.45,0.6,0.0])\n",
    "user = np.array([0.0,0.0,0.0,5.0,3.2,4.5])\n",
    "\n",
    "# c = np.array([0.8,.1,1])\n",
    "# user = np.array([5,2,0])\n",
    "b = c*user\n",
    "print(b)\n"
   ]
  },
  {
   "cell_type": "code",
   "execution_count": null,
   "id": "appreciated-restoration",
   "metadata": {},
   "outputs": [],
   "source": []
  }
 ],
 "metadata": {
  "kernelspec": {
   "display_name": "Python 3",
   "language": "python",
   "name": "python3"
  },
  "language_info": {
   "codemirror_mode": {
    "name": "ipython",
    "version": 3
   },
   "file_extension": ".py",
   "mimetype": "text/x-python",
   "name": "python",
   "nbconvert_exporter": "python",
   "pygments_lexer": "ipython3",
   "version": "3.9.12"
  }
 },
 "nbformat": 4,
 "nbformat_minor": 5
}
